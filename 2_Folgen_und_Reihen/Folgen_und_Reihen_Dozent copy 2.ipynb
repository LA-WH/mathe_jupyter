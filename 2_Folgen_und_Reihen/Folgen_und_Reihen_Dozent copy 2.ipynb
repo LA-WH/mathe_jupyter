{
 "cells": [
  {
   "attachments": {},
   "cell_type": "markdown",
   "metadata": {},
   "source": [
    "# Folgen und Reihen"
   ]
  },
  {
   "attachments": {},
   "cell_type": "markdown",
   "metadata": {},
   "source": [
    "In diesem Notebook werden Sie diverse Folgen und Reihen kennenlernen und verschiedene Aufgaben dazu lösen. Hierbei wird es unter anderem um die Newton-Methode gehen, mit der man die Nullstellen einer Funktion numerisch annähern kann oder interessantere Folgen, wie die des Collatz-Problems. Zudem werden Sie sehen, dass man bei der numerischen Berechnung von Grenzwerten vorsichtig sein sollte, und dem Ergebnis nicht direkt trauen sollte, da das Ergebnis mathematisch ungenau ist oder schlichtweg falsch ist. \n",
    "\n",
    "<b> Python Grundlagen: </b>  Plots<br>\n",
    "<b> Math. Grundlagen: </b> Folgen und Reihen <br>\n",
    "\n",
    "<b>Inhaltsverzeichnis:</b> <br>\n",
    "<ul>\n",
    " <li><a href=\"#1\">Arithmetische Folge</a></li>\n",
    " <li><a href=\"#3\">Newton-Verfahren</a></li>\n",
    " <li><a href=\"#4\">Geometrische Reihe</a></li>\n",
    " <li><a href=\"#5\">Collatz-Problem</a></li>\n",
    " <li><a href=\"#6\">Grenzwerte mit Sympy</a></li>\n",
    "</ul>\n",
    "</p> "
   ]
  },
  {
   "cell_type": "code",
   "execution_count": 15,
   "metadata": {},
   "outputs": [],
   "source": [
    "import matplotlib.pyplot as plt\n",
    "import squarify\n",
    "from ipywidgets import interact, IntSlider, Text\n",
    "from IPython.display import display, Latex\n",
    "import numpy as np\n",
    "import math\n",
    "import sympy as sp"
   ]
  },
  {
   "attachments": {},
   "cell_type": "markdown",
   "metadata": {},
   "source": [
    "<a id=\"1\"></a>\n",
    "## Arithmetische Folge"
   ]
  },
  {
   "attachments": {},
   "cell_type": "markdown",
   "metadata": {},
   "source": [
    "Bei einer arithmetischen Folge ist die Differenz zwischen aufeinanderfolgenden Gliedern konstant ist. Diese Differenz wird als die \"gemeinsame Differenz\" oder Differenz der arithmetischen Folge bezeichnet.\n",
    "\n",
    "Die allgemeine Form einer arithmetischen Folge lautet:\n",
    "\n",
    "$a_n=a_1+(n−1)⋅d \\hbox{ für } n \\geq 2$\n",
    "\n",
    "Hierbei ist $a_n$ das $n$-te Glied der Folge, $a_1$ ist das erste Glied, $n$ ist der Index des Glieds (beginnend bei $1$), und $d$ ist die gemeinsame Differenz.\n",
    "\n",
    "$a_{n+1} - a_n = d \\hbox{ für alle n}$\n",
    "\n",
    "Um die Glieder einer arithmetischen Folge zu berechnen, muss man also das erste Glied $a_1$ kennen und dann die gemeinsame Differenz $d$ verwenden, um die weiteren Glieder der Folge zu erzeugen. \n",
    "\n",
    "Beispiel:\n",
    "\n",
    "Betrachten Sie die arithmetische Folge mit $a_1=3$ und $d=2$. Die ersten fünf Glieder der Folge sind:\n",
    "\n",
    "$\n",
    "a_1 = 3 \\\\\n",
    "a_2 = 3 + (2-1) \\cdot 2 = 5 \\\\\n",
    "a_3 = 3 + (3-1) \\cdot 2 = 7 \\\\\n",
    "a_4 = 3 + (4-1) \\cdot 2 = 9 \\\\\n",
    "a_5 = 3 + (5-1) \\cdot 2 = 11\\\\\n",
    "$\n",
    "\n",
    "In diesem Fall hat die arithmetische Folge eine gemeinsamen Differenz von $2$, und jedes Glied der Folge erhöht sich um $2$ im Vergleich zum vorherigen Glied."
   ]
  },
  {
   "attachments": {},
   "cell_type": "markdown",
   "metadata": {},
   "source": [
    "<div style= \"color: black;background-color: powderblue ;margin: 10 px auto; padding: 10px; border-radius: 10px\">\n",
    "    <p style=\"font-size:12pt; text-align:center; color:   black; background-color: lightskyblue ;margin: 10 px auto; padding: 10px; border-radius: 10px\" id=\"1\"><b>Aufgabe 1</b>  </p>\n",
    "    \n",
    "**Teilaufgabe 1:**\n",
    "\n",
    "Implementieren Sie eine Funktion namens `arith_prog`, die einen Wert einer arithmetischen Folge berechnet.\n",
    "\n",
    "\n",
    "**Parameter:**\n",
    "\n",
    "- `a1`: Das erste Folgenglied.\n",
    "- `n`: Der Index des Folgengliedes, das Sie in der arithmetischen Folge berechnen möchten.\n",
    "- `d`: Die Differenz zwischen aufeinanderfolgenden Folgegliedern in der Folge.\n",
    "\n",
    "**Teilaufgabe 2:**\n",
    "\n",
    "Gegeben sei eine arithmetische Folge mit einem Startwert von $ a_1 = 6 $ und einer Differenz von $ d = 7 $. Erstellen Sie eine Liste mit den ersten 15 Folgengliedern.\n",
    "\n",
    "**Teilaufgabe 3:**\n",
    "\n",
    "Bestimmen Sie die Parameter für die arithmetische Folge, die durch die Zahlen $ 4,10,16,22,28,\\dots $ repräsentiert wird. Berechnen Sie anschließend den Wert für $ n = 100 $ dieser Folge.\n",
    "\n",
    "**Teilaufgabe 4:**\n",
    "\n",
    "Bestimmen Sie die Parameter für eine arithmetische Folge, für die gilt: $ x_8 = 44 $ und $ x_{14} = 86 $. Erstellen Sie anschließend eine Liste der ersten 15 Werte dieser Folge."
   ]
  },
  {
   "cell_type": "code",
   "execution_count": 1,
   "metadata": {},
   "outputs": [],
   "source": [
    "# Teilaufgabe 1\n",
    "def arith_prog(a1, n, d):\n",
    "  \n",
    "    an = a1 + (n - 1)*d\n",
    "    \n",
    "    return an"
   ]
  },
  {
   "cell_type": "code",
   "execution_count": null,
   "metadata": {},
   "outputs": [],
   "source": [
    "# Teilaufgabe 2\n",
    "c = 6\n",
    "d = 7\n",
    "indexs = list(range(1, 15))\n",
    "seq = [arith_prog(c, n, d) for n in indexs]\n",
    "seq"
   ]
  },
  {
   "cell_type": "code",
   "execution_count": null,
   "metadata": {},
   "outputs": [],
   "source": [
    "# Teilaufgabe 3\n",
    "d = 6\n",
    "a1 = 4\n",
    "n = 100\n",
    "arith_prog(a1, n, d)"
   ]
  },
  {
   "cell_type": "code",
   "execution_count": null,
   "metadata": {},
   "outputs": [],
   "source": [
    "# Teilaufgabe 4\n",
    "c = -5\n",
    "d = 7\n",
    "\n",
    "indexs = list(range(1, 15))\n",
    "seq = [arith_prog(c, n, d) for n in indexs]\n",
    "seq"
   ]
  },
  {
   "attachments": {},
   "cell_type": "markdown",
   "metadata": {},
   "source": [
    "<a id=\"3\"></a>\n",
    "## Newton-Verfahren"
   ]
  },
  {
   "attachments": {},
   "cell_type": "markdown",
   "metadata": {},
   "source": [
    "Das Newton-Verfahren, auch bekannt als Newton-Raphson-Verfahren, ist ein numerisches Verfahren zur Approximation von Nullstellen einer differenzierbaren Funktion. Das Newton-Verfahren verwendet die Ableitung einer Funktion, um iterative Schritte zu berechnen, die immer näher an die gesuchte Nullstelle heranführen. Die Grundidee besteht darin, dass man mit einem Startwert beginnt und dann die Tangente an den Funktionsgraphen an dieser Stelle berechnet. Der Schnittpunkt dieser Tangente mit der x-Achse wird als nächster Näherungswert für die Nullstelle aufgegriffen, woraufhin sich der Prozess wiederholt.\n",
    "\n",
    "Die Iterationsschritte des Newton-Verfahrens sind durch die folgende Formel gegeben:\n",
    "\n",
    "$ x_{n+1} = x_n - \\frac{f(x_n)}{f'(x_n)}$\n",
    "\n",
    "Hierbei ist $x_n$ der aktuelle Näherungswert für die Nullstelle, $f(x_n)$ ist der Funktionswert (an dieser Stelle) und $f'(x_n)$ ist die Ableitung der Funktion an dieser Stelle. Dieser Schritt wird wiederholt, bis ein gewünschtes Genauigkeitsniveau erreicht ist.\n",
    "\n",
    "Das Newton-Verfahren konvergiert gegen eine Nullstelle, wenn der Startwert nahe genug an der gesuchten Lösung liegt. Es wird häufig in der numerischen Analysis und bei der Lösung von Gleichungssystemen eingesetzt."
   ]
  },
  {
   "attachments": {},
   "cell_type": "markdown",
   "metadata": {},
   "source": [
    "\n",
    "<div style= \"color: black;background-color: powderblue ;margin: 10 px auto; padding: 10px; border-radius: 10px\">\n",
    "    <p style=\"font-size:12pt; text-align:center; color:   black; background-color: lightskyblue ;margin: 10 px auto; padding: 10px; border-radius: 10px\" id=\"1\"><b>Aufgabe 3</b>  </p> \n",
    "\n",
    "In dieser Aufgabe sollen Sie das Newton-Verfahren implementieren.\n",
    "\n",
    "\n",
    "\n",
    "**Parameter:**\n",
    "\n",
    "- `f`: Eine Funktion, die einen Wert $ x $ als Eingabe akzeptiert und den Wert von $ f(x) $ zurückgibt. Dies ist die Funktion, deren Nullstellen Sie finden möchten.\n",
    "\n",
    "- `f_prime`: Eine Funktion, die einen Wert $ x $ als Eingabe akzeptiert und den Wert von $ f'(x) $ zurückgibt. Dies ist die Ableitung von $ f $.\n",
    "\n",
    "- `n`: Die Anzahl der Iterationen, die das Verfahren durchlaufen soll.\n",
    "\n",
    "- `initial_guess`: Ein optionaler Parameter, der den Startwert für die Iteration angibt. Wenn kein Wert angegeben wird, soll der Standardwert 10 verwendet werden.\n",
    "\n",
    "**Anforderungen:**\n",
    "\n",
    "- Die Methode sollte eine Liste von Werten zurückgeben, die die Näherungslösungen in jeder Iteration darstellen.\n",
    "- Wenn in irgendeinem Schritt der Ableitungswert $ f'(x) $ gleich Null ist, sollte die Methode einen Fehler mit der Nachricht \"Ableitung ist gleich Null. Verfahren kann nicht angewendet werden\" auslösen.\n",
    "\n",
    "**Hinweis:** Das Newton-Verfahren konvergiert nicht immer, und die Konvergenz kann von der anfänglichen Schätzung abhängen.\n",
    "\n",
    "**Beispiel:** Wenn Sie die Funktion mit $ f(x) = x^2 - 4 $ und $ f'(x) = 2x $ und einem Startwert von 10 und 3 Iterationen aufrufen, sollten Sie eine Liste von Näherungswerten für die Nullstellen von $ f $ erhalten.\n"
   ]
  },
  {
   "cell_type": "code",
   "execution_count": null,
   "metadata": {},
   "outputs": [],
   "source": [
    "def newton_method(f, f_prime,n,initial_guess = 10):\n",
    "    x = initial_guess\n",
    "    values = []\n",
    "    for _ in range(n):\n",
    "        fx = f(x)\n",
    "        fpx = f_prime(x)\n",
    "        if fpx == 0:\n",
    "            print(\"Ableitung ist gleich Null. Verfahren kann nicht angewendet werden\")\n",
    "            break\n",
    "        x = x - fx / fpx\n",
    "        values.append(x)\n",
    "    return values"
   ]
  },
  {
   "cell_type": "code",
   "execution_count": null,
   "metadata": {},
   "outputs": [],
   "source": [
    "# Diesen Code müssen Sie nicht nachvollziehen können!\n",
    "# Benutzen Sie ihn um ihre obige implementierte Methode zu testen. \n",
    "def plot(n,f):\n",
    "    fig = plt.figure(figsize=(7.5, 7.5))\n",
    "    values = []\n",
    "    y = np.zeros(n)\n",
    "    x = sp.var('x')\n",
    "    roots = abs(sp.Poly(f, x).nroots()[0])\n",
    "    f_d = diff(f,x)\n",
    "    f_f = lambdify([x],f)\n",
    "    f_d = lambdify([x],f_d)\n",
    "    values = newton_method(f_f,f_d,n)\n",
    "    plt.axhline(y=0, color='r', linestyle='-')\n",
    "    plt.axvline(x=values[-1], color='r', linestyle='-')\n",
    "    ma = values[-1]\n",
    "    latex_text = r'letzter Wert der Approximation: ' + str(ma)\n",
    "    display(Latex(latex_text))\n",
    "    display(Latex(\"exakter Wert: \"+ str(roots)))\n",
    "    x_f = np.arange(-5,10)\n",
    "    y_f = f_f(x_f)\n",
    "    plt.plot(x_f,y_f)\n",
    "    plt.scatter(values,y)\n",
    "b_slider = IntSlider(min=1, max=11, step=1, value=1)\n",
    "a = Text(\n",
    "    value='x**3 - 2*x**2 - 5',\n",
    "    description='Funktion:',\n",
    "    disabled=False\n",
    ")\n",
    "interact(plot, n=b_slider, f=a)"
   ]
  },
  {
   "attachments": {},
   "cell_type": "markdown",
   "metadata": {},
   "source": [
    "<a id=\"4\"></a>\n",
    "## Geometrische Reihe"
   ]
  },
  {
   "attachments": {},
   "cell_type": "markdown",
   "metadata": {},
   "source": [
    "Die geometrische Reihe ist ausgezeichnet zu visualisieren. Im Folgenden werden Sie solch eine Veranschaulichung kennenlernen.\n",
    "\n",
    "Stellen Sie sich vor, Sie haben eine geometrische Reihe mit einem Startwert von $a$ und einem konstanten Verhältnis von $r$. Das Folgenglied $a_n$ der geometrischen Reihe folgt der Formel:\n",
    "\n",
    "$ a_n = a \\cdot r^{n-1}$\n",
    "\n",
    "Dabei ist $n$ ein FOlgenindex der Summanden. Wenn man diese Formel für verschiedene Werte von $n$ anwendet, kann man visuell ein erstes Muster erkennen.\n",
    "Beispiel: Es sei eine geometrische Reihe mit $a = 1$ und $r = 2$ gegeben. Die ersten Summanden der Reihe wären:\n",
    "\n",
    "$1, 2, 4, 8, 16$\n",
    "\n",
    "In diesem Fall sieht man, dass jedes Element der Reihe das vorherige Element mit $2$ multipliziert. Die Reihe wächst exponentiell, da das Verhältnis größer als $1$ ist. Die Veranschaulichung könnte aus Punkten oder Balken bestehen, bei denen die Höhe des nächsten Elements jeweils das Doppelte des vorherigen Elements ist.\n",
    "\n",
    "Eine geometrische Reihe kann auch konvergieren, wenn der Wachstumsfaktor $r$ zwischen $-1$ und $1$ liegt. In diesem Fall nimmt jedes Reihenglied im Vergleich zum vorherigen Term ab. Ein Beispiel hierfür ist die Reihe mit $a = 1$ und $r = 0, 5$:\n",
    "\n",
    "$\\frac {1}{2} + \\left (\\frac {1}{2}\\right )^2+ \\left (\\frac {1}{2}\\right )^3+ \\ldots = \\sum \\limits _{k=1}^{\\infty } \\left (\\frac {1}{2}\\right )^k =1$\n",
    "\n",
    "In dieser Veranschaulichung würden die Punkte oder Balken mit jedem Term immer kleiner werden und sich schließlich einer bestimmten Grenze annähern."
   ]
  },
  {
   "cell_type": "code",
   "execution_count": null,
   "metadata": {},
   "outputs": [],
   "source": [
    "# Diesen Code müssen Sie nicht verstehen!\n",
    "def plot(k):\n",
    "    fig = plt.figure(figsize=(7.5, 7.5))\n",
    "    ax = fig.gca()\n",
    "    values = []\n",
    "    color = [\"lightblue\"] * (k - 1)\n",
    "    labels = []\n",
    "    for j in range(1,k):\n",
    "        values.append((1/2)**j)\n",
    "        if j < 9:\n",
    "            label = r\"$\\frac{1}{\" + str(2 ** j) + r\"}$\"\n",
    "            labels.append(label)\n",
    "        else:\n",
    "            labels.append(\"\")\n",
    "    values.append(1-sum(values))\n",
    "    labels.append(\"\")\n",
    "    color.append(\"grey\")\n",
    "    squarify.plot(sizes = values,ec = 'black', label = labels, color=color, ax=ax, text_kwargs={'fontsize':20})\n",
    "    plt.axis(\"off\")\n",
    "    \n",
    "b_slider = IntSlider(min=1, max=15, step=1, value=1)\n",
    "latex_text = r'$\\frac {1}{2} + \\left (\\frac {1}{2}\\right )^2+ \\left (\\frac {1}{2}\\right )^3+ \\ldots = \\sum \\limits _{k=1}^{\\infty } \\left (\\frac {1}{2}\\right )^k =1$'\n",
    "display(Latex(latex_text))\n",
    "interact(plot, k=b_slider)"
   ]
  },
  {
   "attachments": {},
   "cell_type": "markdown",
   "metadata": {},
   "source": [
    "<div style= \"color: black;background-color: powderblue ;margin: 10 px auto; padding: 10px; border-radius: 10px\">\n",
    "    <p style=\"font-size:12pt; text-align:center; color:   black; background-color: lightskyblue ;margin: 10 px auto; padding: 10px; border-radius: 10px\" id=\"1\"><b>Aufgabe 4</b>  </p> \n",
    "    \n",
    "In dieser Aufgabe sollen Sie eine Funktion implementieren, die die Summe einer unendlichen Reihe berechnet. Die Reihe wird durch eine gegebene Funktion für die einzelnen Terme repräsentiert. Die Summation soll solange fortgesetzt werden, bis der Unterschied zwischen zwei aufeinanderfolgenden Summen kleiner als eine vorgegebene Toleranz ist.\n",
    "\n",
    "\n",
    "**Parameter:**\n",
    "\n",
    "- `term_func`: Dies ist eine Funktion, die einen Parameter akzeptiert und den Wert des n-ten Folgeglied der Reihe zurückgibt. Beispielsweise könnte `term_func(n)` den Wert des n-ten Reihenglieds zurückgeben.\n",
    "\n",
    "- `start`: Dies ist der Startpunkt, von dem aus die Summation beginnen soll. Dieser Wert gibt den Index des Folgenglied an, der zur Summe hinzugefügt werden soll.\n",
    "\n",
    "- `tolerance`: Dies ist der Toleranzwert. Die Summation soll fortgesetzt werden, bis der Unterschied zwischen zwei aufeinanderfolgenden Summen kleiner als dieser Toleranzwert ist.\n",
    "\n",
    "**Anforderungen:**\n",
    "\n",
    "- Die zu implementierende Funktionsoll solange die Folgenglieder zum Laufindex n aufsummieren, bis die Bedingung der Toleranz erfüllt ist.\n",
    "- Wenn die Anzahl der Iterationen 100.000.000 übersteigt, soll die Funktion eine Nachricht ausgeben, die darauf hinweist, die Berechnung abbrechen und und die aktuelle Summe zurückgeben.\n",
    "\n",
    "**Hinweis:** Es gibt Reihen, die sehr langsam konvergieren oder überhaupt nicht konvergieren. In solchen Fällen kann die Funktion lange laufen oder die maximale Anzahl von Iterationen erreichen.\n",
    "\n",
    "**Beispiel:** Wenn Sie die Funktion mit $ \\frac{1}{2^n} $, einem Startwert von 1 und einer Toleranz von 0,001 aufrufen, sollte sie ungefähr den Wert 1 zurückgeben."
   ]
  },
  {
   "cell_type": "code",
   "execution_count": null,
   "metadata": {},
   "outputs": [],
   "source": [
    "def infinite_series_sum(term_func, start, tolerance):\n",
    "\n",
    "    total_sum = 0\n",
    "    prev = term_func(start)\n",
    "    current = term_func(start + 1)\n",
    "    n = start + 2\n",
    "    \n",
    "    while abs(prev - current) > tolerance:\n",
    "        total_sum += prev\n",
    "        prev = current\n",
    "        current = term_func(n)\n",
    "        n += 1\n",
    "        if n > 100000000:\n",
    "            print(\"Maximale Anzahl an Interationen erreicht.\")\n",
    "            return total_sum\n",
    "        \n",
    "    return total_sum"
   ]
  },
  {
   "cell_type": "code",
   "execution_count": null,
   "metadata": {},
   "outputs": [],
   "source": [
    "def fun(k):\n",
    "    return (1/2)**k"
   ]
  },
  {
   "cell_type": "code",
   "execution_count": null,
   "metadata": {},
   "outputs": [],
   "source": [
    "infinite_series_sum(fun,1,0.00000000001)"
   ]
  },
  {
   "attachments": {},
   "cell_type": "markdown",
   "metadata": {},
   "source": [
    "<a id=\"5\"></a>\n",
    "## Collatz-Problem"
   ]
  },
  {
   "attachments": {},
   "cell_type": "markdown",
   "metadata": {},
   "source": [
    "Das Collatz-Problem, auch bekannt als das $3n+1$-Problem oder das Ulam-Problem, ist ein mathematisches Phänomen, das sich auf eine einfache Folge konstruieren lässt. \n",
    "\n",
    "Das Problem beginnt mit einer beliebigen positiven ganzen Zahl. Wenn die Zahl gerade ist, wird sie durch $2$ geteilt. Wenn sie ungerade ist, wird sie mit $3$ multipliziert und $1$ addiert. Das Ergebnis wird dann als nächste Folgeglied gewählt, der Prozess wird wiederholt. Damit ist die Folge wie folgt definiert:\n",
    "\n",
    "$$ \n",
    "x_{n+1} = \\begin{cases} \\frac{x_n}{2}, & \\text{wenn } x_n \\text{ gerade ist}\\\\ 3x_n + 1, & \\text{wenn } x_n \\text{ ungerade ist} \\end{cases}\n",
    "$$\n",
    "\n",
    "Das Ziel besteht darin festzustellen, ob diese Iteration für jede positive ganze Zahl immer in den Zyklus $4, 2, 1$ führt, egal mit welcher Zahl gestartet wird. \n",
    "\n",
    "Ein Beispiel: Wenn mit der Zahl $6$ begonnen wird, erhält man die folgende Folge: $6, 3, 10, 5, 16, 8, 4, 2, 1$."
   ]
  },
  {
   "attachments": {},
   "cell_type": "markdown",
   "metadata": {},
   "source": [
    "<div style= \"color: black;background-color: powderblue ;margin: 10 px auto; padding: 10px; border-radius: 10px\">\n",
    "    <p style=\"font-size:12pt; text-align:center; color:   black; background-color: lightskyblue ;margin: 10 px auto; padding: 10px; border-radius: 10px\" id=\"1\"><b>Aufgabe 5</b>  </p> \n",
    "\n",
    "Ihre Aufgabe ist es, eine Methode zu implementieren, die die Länge der Collatz-Folge für eine gegebene Anzahl von Zahlen berechnet und die Zahl mit der längsten Sequenz identifiziert.\n",
    "\n",
    "**Implementierung:**\n",
    "\n",
    "1. Erstellen Sie eine Schleife, um die Collatz-Folge für jede Zahl in einem gegebenen Bereich (z. B. von 1 bis 100.000) zu generieren.\n",
    "2. Zählen Sie die Anzahl der Schritte, die benötigt werden, um von jeder Zahl zu 1 zu gelangen, und speichern Sie diese in einer Liste.\n",
    "3. Identifizieren Sie die Zahl mit der längsten Collatz-Sequenz und geben Sie diese zusammen mit ihrer Länge aus.\n",
    "\n",
    "\n",
    "**Parameter:**\n",
    "\n",
    "- `max_value`: Die obere Grenze des Bereichs von Zahlen, für die die Collatz-Sequenz generiert werden soll. Zum Beispiel, wenn `max_value` 100.000 ist, sollten Sie die Sequenz für jede Zahl von 1 bis 100.000 generieren.\n",
    "\n",
    "\n",
    "**Erwartete Ausgabe:** \n",
    "\n",
    "\"Die längste Sequenz ist für die Zahl X mit einer Länge von Y zu finden.\"\n",
    "\n",
    "Ausgabe für `max_value` = 1000 : \n",
    "\n",
    "Die längste Sequenz ist für die Zahl 870 mit einer Länge von 178 zu finden."
   ]
  },
  {
   "cell_type": "code",
   "execution_count": null,
   "metadata": {},
   "outputs": [],
   "source": [
    "def analyze_collatz_sequence(max_value):\n",
    "    checked = 0\n",
    "    Ylevels= []\n",
    "\n",
    "    for i in x:\n",
    "        n = i\n",
    "        while n != 1:\n",
    "            if (n % 2) == 0:\n",
    "                n = n / 2\n",
    "                checked += 1\n",
    "            else:\n",
    "                n = n * 3 + 1\n",
    "                checked += 1\n",
    "        Ylevels.append(checked)\n",
    "        checked = 0\n",
    "\n",
    "    print(\"Die längste Sequenz ist zu finden für die Zahl \" + str(np.argmax(Ylevels)) + \" mit einer Länge von \" + str(max(Ylevels)) + \".\") \n",
    "    \n",
    "analyze_collatz_sequence(1000)"
   ]
  },
  {
   "attachments": {},
   "cell_type": "markdown",
   "metadata": {},
   "source": [
    "<a id=\"6\"></a>\n",
    "## Grenzwerte mit Sympy"
   ]
  },
  {
   "attachments": {},
   "cell_type": "markdown",
   "metadata": {},
   "source": [
    "SymPy ist eine Python-Bibliothek für symbolische Mathematik. Sie ermöglicht die symbolische Manipulation mathematischer Ausdrücke, einschließlich algebraischer Ausdrücke, Gleichungen, Differentiation, Integration, symbolischer Vereinfachung und vielem mehr.\n",
    "\n",
    "Mit SymPy können mathematische Ausdrücke in symbolischer Form erstellt und manipuliert werden, anstatt numerische Berechnungen durchzuführen. Es ist besonders nützlich für Berechnungen, bei denen genaue Ergebnisse und symbolische Darstellungen bevorzugt werden, wie z. B. in der Mathematik, Physik, Ingenieurwissenschaften und anderen technischen Bereichen.\n",
    "\n",
    "Zudem bietet es auch Funktionen zur Berechnung von Grenzwerten. Die Funktion <code>limit_seq()</code> in SymPy kann verwendet werden, um den Grenzwert einer Folge zu bestimmen.\n",
    "\n",
    "Hier ist ein Beispiel, wie man den Grenzwert einer Folge mit SymPy berechnen kann:"
   ]
  },
  {
   "cell_type": "code",
   "execution_count": 17,
   "metadata": {},
   "outputs": [
    {
     "data": {
      "text/latex": [
       "$\\displaystyle \\frac{5}{3}$"
      ],
      "text/plain": [
       "5/3"
      ]
     },
     "metadata": {},
     "output_type": "display_data"
    }
   ],
   "source": [
    "import sympy as sp\n",
    "from IPython.display import display\n",
    "\n",
    "# Symbolische Variable definieren\n",
    "n = sp.Symbol('n')\n",
    "\n",
    "# Folge definieren\n",
    "a_n = (5*n**3 + 3*n**2 + 4) / (3*n**3 + 4*n - 5)\n",
    "\n",
    "# Grenzwert berechnen\n",
    "limit_value = sp.limit_seq(a_n,n)\n",
    "\n",
    "display(limit_value)  "
   ]
  },
  {
   "attachments": {},
   "cell_type": "markdown",
   "metadata": {},
   "source": [
    "Mit Sympy können auch Summen definiert werden und auf Konvergenz geprüft werden. Dies sieht wie folgt aus:"
   ]
  },
  {
   "cell_type": "code",
   "execution_count": 14,
   "metadata": {},
   "outputs": [
    {
     "data": {
      "text/latex": [
       "$\\displaystyle \\sum_{n=1}^{\\infty} \\frac{1}{n^{2}}$"
      ],
      "text/plain": [
       "Sum(n**(-2), (n, 1, oo))"
      ]
     },
     "metadata": {},
     "output_type": "display_data"
    },
    {
     "data": {
      "text/latex": [
       "$\\displaystyle \\text{True}$"
      ],
      "text/plain": [
       "True"
      ]
     },
     "metadata": {},
     "output_type": "display_data"
    },
    {
     "data": {
      "text/latex": [
       "$\\displaystyle \\frac{\\pi^{2}}{6}$"
      ],
      "text/plain": [
       "pi**2/6"
      ]
     },
     "metadata": {},
     "output_type": "display_data"
    },
    {
     "data": {
      "text/latex": [
       "$\\displaystyle \\sum_{n=1}^{\\infty} \\frac{n}{2 n + 1}$"
      ],
      "text/plain": [
       "Sum(n/(2*n + 1), (n, 1, oo))"
      ]
     },
     "metadata": {},
     "output_type": "display_data"
    },
    {
     "data": {
      "text/latex": [
       "$\\displaystyle \\text{False}$"
      ],
      "text/plain": [
       "False"
      ]
     },
     "metadata": {},
     "output_type": "display_data"
    },
    {
     "data": {
      "text/latex": [
       "$\\displaystyle \\infty$"
      ],
      "text/plain": [
       "oo"
      ]
     },
     "metadata": {},
     "output_type": "display_data"
    }
   ],
   "source": [
    "from sympy import factorial, S, Sum, Symbol, oo\n",
    "\n",
    "n = Symbol('n', integer=True)\n",
    "\n",
    "# In Sum ist der erste Parameter der zu summierende Ausdruck. \n",
    "# Der zweite Parameter ist ein Tupel bestehen aus (abhängige Variable, start Index, end index)\n",
    "sum1 = Sum(1/(n**2), (n, 1, oo))\n",
    "display(sum1)\n",
    "# gibt zurück ob eine Reihe konvergiert\n",
    "display(sum1.is_convergent())\n",
    "# berechnet die Reihe\n",
    "display(sum1.doit())\n",
    "\n",
    "sum2 = Sum(n/(2*n + 1), (n, 1, oo))\n",
    "display(sum2)\n",
    "display(sum2.is_convergent())\n",
    "display(sum2.doit())"
   ]
  },
  {
   "attachments": {},
   "cell_type": "markdown",
   "metadata": {},
   "source": [
    "<div style= \"color: black;background-color: powderblue ;margin: 10 px auto; padding: 10px; border-radius: 10px\">\n",
    "    <p style=\"font-size:12pt; text-align:center; color:   black; background-color: lightskyblue ;margin: 10 px auto; padding: 10px; border-radius: 10px\" id=\"1\"><b>Aufgabe 6</b>  </p>\n",
    "\n",
    "In dieser Aufgabe sollen Sie Grenzwerte für bestimmte Folgen und Reihen ermitteln. Verwenden Sie dafür das Python-Modul `Sympy` und validieren Sie die Ergebnisse durch manuelle Überprüfung und durch Plotten.\n",
    "\n",
    "\n",
    "**Teilaufgabe 1:**  \n",
    "\n",
    "Bestimmen Sie den Grenzwert für die folgende Folge:\n",
    "\n",
    "$$\n",
    "a_n = \\frac {n^2(2n+1)(5-3n)}{(1+2n)^4}\n",
    "$$\n",
    "\n",
    "**Teilaufgabe 2:** \n",
    "\n",
    "Ermitteln Sie den Grenzwert für die folgende Folge:\n",
    "\n",
    "$$\n",
    "b_{n} =  (n^2 + n)\\log\\left(1 + \\frac{1}{n^2 + \\cos(n)}\\right)\n",
    "$$\n",
    "\n",
    "Was gibt die Funktion `limit_seq()` aus `Sympy` für diese Folge zurück? Plotten Sie die ersten 150 Glieder der Reihe, um das Ergebnis von `Sympy` zu überprüfen.\n",
    "\n",
    "**Teilaufgabe 3:** \n",
    "\n",
    "Untersuchen Sie die folgende Reihe:\n",
    "\n",
    "$$\n",
    "\\sum_{n=1}^{\\infty} \\left(\\cos{\\left(\\frac{1}{n} \\right)} - 1\\right)\n",
    "$$\n",
    "\n",
    "Konvergiert diese Reihe? Welchen Wert gibt `Sympy` für diese Reihe aus? Um diese Reihe zu plotten, sollten Sie die Partialsummen der Reihe verwenden. Implementieren Sie dazu die Funktion `calculate_first_n_terms`, die die ersten n Partialsummen als Liste zurückgibt:\n",
    "\n",
    "```python\n",
    "def calculate_first_n_terms(term_func, start, n):\n",
    "    ...\n",
    "```\n",
    "\n",
    "**Parameter:** \n",
    " \n",
    "- `term_func`: Eine Funktion, die ein Folgenglied der Reihe berechnet.\n",
    "- `start`: Der Startindex der Reihe.\n",
    "- `n`: Der Endindex der Reihe.\n",
    "\n",
    "Nutzen Sie diese Funktion, um die ersten 150 Partialsummen der Reihe zu plotten.\n",
    "\n",
    "**Hinweis:**\n",
    "\n",
    "Lassen Sie nicht einfach nur die Grenzwerte durch Sympy berechnen, sondern hinterfragen Sie auch, ob die Ergebnisse tatsächlich richtig sein können."
   ]
  },
  {
   "cell_type": "code",
   "execution_count": 215,
   "metadata": {},
   "outputs": [
    {
     "data": {
      "image/png": "[encoded data removed]",
      "text/latex": [
       "$\\displaystyle - \\frac{3}{8}$"
      ],
      "text/plain": [
       "-3/8"
      ]
     },
     "metadata": {},
     "output_type": "display_data"
    }
   ],
   "source": [
    "# Teilaufgabe 1\n",
    "n = sp.Symbol('n')\n",
    "\n",
    "a_n = (n**2*(2*n+1)*(5-3*n))/(1+2*n)**4\n",
    "\n",
    "limit_value = sp.limit_seq(a_n,n)\n",
    "\n",
    "display(limit_value)  "
   ]
  },
  {
   "cell_type": "code",
   "execution_count": 219,
   "metadata": {},
   "outputs": [],
   "source": [
    "# Teilaufgabe 2"
   ]
  },
  {
   "cell_type": "code",
   "execution_count": 160,
   "metadata": {},
   "outputs": [
    {
     "data": {
      "image/png": "[encoded data removed]",
      "text/latex": [
       "$\\displaystyle \\left(n^{2} + n\\right) \\log{\\left(1 + \\frac{1}{n^{2} + \\cos{\\left(n \\right)}} \\right)}$"
      ],
      "text/plain": [
       "⎛ 2    ⎞    ⎛         1     ⎞\n",
       "⎝n  + n⎠⋅log⎜1 + ───────────⎟\n",
       "            ⎜     2         ⎟\n",
       "            ⎝    n  + cos(n)⎠"
      ]
     },
     "execution_count": 160,
     "metadata": {},
     "output_type": "execute_result"
    }
   ],
   "source": [
    "(n**2 + n)*log(1 + 1/(n**2 + cos(n)))"
   ]
  },
  {
   "cell_type": "code",
   "execution_count": 177,
   "metadata": {},
   "outputs": [
    {
     "name": "stdout",
     "output_type": "stream",
     "text": [
      "None\n"
     ]
    }
   ],
   "source": [
    "print(limit_seq((n**2 + n)*log(1 + 1/(n**2 + cos(n))),n))"
   ]
  },
  {
   "cell_type": "code",
   "execution_count": 178,
   "metadata": {},
   "outputs": [
    {
     "data": {
      "text/plain": [
       "[<matplotlib.lines.Line2D at 0x7fdb8f465400>]"
      ]
     },
     "execution_count": 178,
     "metadata": {},
     "output_type": "execute_result"
    },
    {
     "data": {
      "image/png": "[encoded data removed]",
      "text/plain": [
       "<Figure size 432x288 with 1 Axes>"
      ]
     },
     "metadata": {
      "needs_background": "light"
     },
     "output_type": "display_data"
    }
   ],
   "source": [
    "fig, ax = plt.subplots()\n",
    "x = np.arange(0,150)\n",
    "y = (x**2 + x)*np.log(1 + 1/(x**2 + np.cos(x)))\n",
    "ax.axhline(y=1, color='k')\n",
    "ax.axvline(x=0, color='k')\n",
    "plt.plot(x,y)"
   ]
  },
  {
   "cell_type": "code",
   "execution_count": 220,
   "metadata": {},
   "outputs": [],
   "source": [
    "# Teilaufgabe 3"
   ]
  },
  {
   "cell_type": "code",
   "execution_count": 20,
   "metadata": {},
   "outputs": [],
   "source": [
    "n = Symbol('n')\n",
    "expr = sp.cos(1/n) - 1\n",
    "sum3 = Sum(expr, (n, 1, oo))"
   ]
  },
  {
   "cell_type": "code",
   "execution_count": 21,
   "metadata": {},
   "outputs": [
    {
     "data": {
      "text/latex": [
       "$\\displaystyle \\sum_{n=1}^{\\infty} \\left(\\cos{\\left(\\frac{1}{n} \\right)} - 1\\right)$"
      ],
      "text/plain": [
       "Sum(cos(1/n) - 1, (n, 1, oo))"
      ]
     },
     "execution_count": 21,
     "metadata": {},
     "output_type": "execute_result"
    }
   ],
   "source": [
    "sum3"
   ]
  },
  {
   "cell_type": "code",
   "execution_count": 22,
   "metadata": {},
   "outputs": [
    {
     "data": {
      "text/latex": [
       "$\\displaystyle \\text{False}$"
      ],
      "text/plain": [
       "False"
      ]
     },
     "metadata": {},
     "output_type": "display_data"
    },
    {
     "data": {
      "text/latex": [
       "$\\displaystyle \\sum_{n=1}^{\\infty} \\left(\\cos{\\left(\\frac{1}{n} \\right)} - 1\\right)$"
      ],
      "text/plain": [
       "Sum(cos(1/n) - 1, (n, 1, oo))"
      ]
     },
     "metadata": {},
     "output_type": "display_data"
    }
   ],
   "source": [
    "display(sum3.is_convergent())\n",
    "display(sum3.doit())"
   ]
  },
  {
   "cell_type": "code",
   "execution_count": 23,
   "metadata": {},
   "outputs": [],
   "source": [
    "def calculate_first_n_terms(term_func, start, n):\n",
    "\n",
    "    total_sum = 0\n",
    "    elements = []\n",
    "    \n",
    "    for i in range(start,n + 1):\n",
    "        value = term_func(i)\n",
    "        total_sum += value\n",
    "        elements.append(total_sum)\n",
    "        \n",
    "    return elements"
   ]
  },
  {
   "cell_type": "code",
   "execution_count": null,
   "metadata": {},
   "outputs": [],
   "source": [
    "def fun(k):\n",
    "    return sp.cos(1/k) - 1 \n",
    "\n",
    "fig, ax = plt.subplots()\n",
    "x = np.arange(0,150)\n",
    "y = calculate_first_n_terms(fun,1,250)\n",
    "ax.axhline(y=0, color='k')\n",
    "ax.axvline(x=0, color='k')\n",
    "print(r\"$\\text{Der Grenzwert befindet sich ungefähr bei }\" + str(y[-1])+ \"$\")\n",
    "plt.plot(x,y)"
   ]
  }
 ],
 "metadata": {
  "kernelspec": {
   "display_name": "py38",
   "language": "python",
   "name": "python3"
  },
  "language_info": {
   "codemirror_mode": {
    "name": "ipython",
    "version": 3
   },
   "file_extension": ".py",
   "mimetype": "text/x-python",
   "name": "python",
   "nbconvert_exporter": "python",
   "pygments_lexer": "ipython3",
   "version": "3.8.16"
  },
  "orig_nbformat": 4
 },
 "nbformat": 4,
 "nbformat_minor": 2
}
