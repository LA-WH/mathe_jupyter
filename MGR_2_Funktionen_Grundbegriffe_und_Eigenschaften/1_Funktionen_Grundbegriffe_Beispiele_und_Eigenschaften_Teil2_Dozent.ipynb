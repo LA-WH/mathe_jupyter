{
 "cells": [
  {
   "attachments": {},
   "cell_type": "markdown",
   "metadata": {},
   "source": [
    "# Ableitungen, Steigung, Extremstellen, Krümmungsverhalten"
   ]
  },
  {
   "cell_type": "code",
   "execution_count": 1,
   "metadata": {},
   "outputs": [],
   "source": [
    "# Import der benötigten Module\n",
    "import numpy as np\n",
    "import matplotlib.pyplot as plt\n",
    "import math\n",
    "import sympy as sp\n",
    "import micropip\n",
    "await micropip.install(\"ipywidgets\")\n",
    "from ipywidgets import interactive, widgets, interact, IntSlider, Text\n",
    "from IPython.display import display, Latex\n",
    "%matplotlib inline"
   ]
  },
  {
   "attachments": {},
   "cell_type": "markdown",
   "metadata": {},
   "source": [
    "# Steigung"
   ]
  },
  {
   "attachments": {},
   "cell_type": "markdown",
   "metadata": {},
   "source": [
    "Das Steigungsdreieck ist ein geometrisches Hilfsmittel, das oft benutzt wird, um die Steigung einer Geraden in einem Koordinatensystem zu bestimmen.\n",
    "\n",
    "Ein Steigungsdreieck ist ein rechtwinkliges Dreieck, das man zeichnet, indem man von einem Punkt auf der Geraden horizontal (entlang der $x$-Achse) und dann vertikal (entlang der $y$-Achse) zu einem anderen Punkt auf der Geraden geht. Die Hypotenuse des Dreiecks liegt dann auf der Geraden.\n",
    "\n",
    "Die Steigung $m$ der Geraden ist gleich dem Verhältnis der vertikalen Veränderung, zur horizontalen Veränderung.\n",
    "\n",
    "In mathematischen Begriffen, wenn man zwei Punkte auf der Geraden hat, $(x_1, y_1)$ und $(x_2, y_2)$, dann ist die Steigung $m$ der Geraden:\n",
    "\n",
    "$m = (y_2 - y_1) / (x_2 - x_1)$\n",
    "\n",
    "Die Steigung einer Geraden wird durch das Verhältnis der beiden Seiten des Steigungsdreiecks bestimmt. Dabei steht die vertikale Seite (entlang der y-Achse) für die Veränderung in der Höhe, und die horizontale Seite (entlang der x-Achse) für die Veränderung in der Breite. Wichtig zu beachten ist, dass die Steigung positiv ist, wenn die Gerade beim Blick von links nach rechts ansteigt. Fällt die Gerade hingegen beim Blick von links nach rechts ab, ist die Steigung negativ.\n",
    "\n",
    "In der folgenden Grafik können Sie solch ein Dreieck wieder finden.\n",
    "\n",
    "<center><img src=\"Steigungsdreieck.png\"  width=\"45%\" height=\"45%\"></center><br>\n",
    "\n",
    "Im folgenden Code-Block können Sie das Steigungsdreieck interaktiv verschieben.  "
   ]
  },
  {
   "cell_type": "code",
   "execution_count": null,
   "metadata": {},
   "outputs": [],
   "source": [
    "\n",
    "def f(x):\n",
    "    return x*2 + 2\n",
    "\n",
    "x = np.linspace(-10, 10, 1000)\n",
    "y = f(x)\n",
    "\n",
    "x_value = 2\n",
    "h = 1\n",
    "x1, y1 = [x_value, x_value + h], [f(x_value), f(x_value)]\n",
    "x2, y2 = [x_value + h, x_value + h], [f(x_value), f(x_value + h)]\n",
    "\n",
    "plt.figure(figsize=(8, 6),dpi=150)\n",
    "plt.plot(x, y, lw=2, color=\"lightblue\", label=\"f(x) = 2x + 2\")\n",
    "plt.plot(x1, y1, x2, y2, color=\"black\")\n",
    "plt.scatter(x_value, f(x_value), color=\"red\")\n",
    "\n",
    "plt.text(x_value + h/2, f(x_value) - 0.5, 'horizontal (Δx)', ha='center')\n",
    "plt.text(x_value + h + 0.2, f(x_value) + h, 'vertikal (Δy)', va='center')\n",
    "plt.text(x_value, f(x_value) + 0.3, f'({x_value}, {f(x_value)})', ha='right')\n",
    "plt.text(x_value + h, f(x_value) + h + 0.3, f'({x_value + h}, {f(x_value + h) })', ha='right')\n",
    "plt.title(\"Steigungsdreieck einer linearen Funktion\")\n",
    "\n",
    "plt.axhline(0, color='black',linewidth=0.5)\n",
    "plt.axvline(0, color='black',linewidth=0.5)\n",
    "plt.grid(color = 'gray', linestyle = '--', linewidth = 0.5)\n",
    "plt.xlim(-4, 4)\n",
    "plt.ylim(-4, 10)\n",
    "plt.xlabel('x-Achse')\n",
    "plt.ylabel('y-Achse')\n",
    "plt.legend()\n",
    "\n",
    "plt.show()\n"
   ]
  },
  {
   "cell_type": "code",
   "execution_count": 2,
   "metadata": {},
   "outputs": [
    {
     "data": {
      "application/vnd.jupyter.widget-view+json": {
       "model_id": "fb4e5d91172c4dbc89641f2912ce60fd",
       "version_major": 2,
       "version_minor": 0
      },
      "text/plain": [
       "interactive(children=(FloatSlider(value=0.0, description='x_wert', max=1.0, min=-3.0, step=0.25), Output()), _…"
      ]
     },
     "execution_count": 2,
     "metadata": {},
     "output_type": "execute_result"
    }
   ],
   "source": [
    "def f(x):\n",
    "    return x*2 + 2\n",
    "\n",
    "    \n",
    "def plot(x_wert):\n",
    "    \n",
    "    x = np.linspace(-10,10,1000)\n",
    "    y = f(x)\n",
    "    print(\"Steigung im Punkt (\",str(x_wert), \",\",f(x_wert), \") beträgt: \", 2)\n",
    "    h = 1\n",
    "    x1, y1 = [x_wert, x_wert + h], [f(x_wert), f(x_wert)]\n",
    "    x2, y2 = [x_wert + h, x_wert + h], [f(x_wert), f(x_wert + h)]\n",
    "\n",
    "    plt.plot(x1, y1,x2,y2,color=\"black\")\n",
    "\n",
    "    plt.scatter(x_wert,f(x_wert),color=\"red\")\n",
    "    plt.plot(x, y, lw=2, color=\"lightblue\")\n",
    "    plt.xlim(-4, 4)\n",
    "    plt.ylim(-4, 4)\n",
    "    plt.grid()\n",
    "    plt.show()\n",
    "\n",
    "interactive(plot, x_wert = widgets.FloatSlider(min = -3, max = 1, step = 0.25, value = 0))"
   ]
  },
  {
   "attachments": {},
   "cell_type": "markdown",
   "metadata": {},
   "source": [
    "# Ableitungen"
   ]
  },
  {
   "attachments": {},
   "cell_type": "markdown",
   "metadata": {},
   "source": [
    "Wie zuvor gesehen kann man für die Geraden die Steigung einer Funktion durch das Steigungsdreieck bestimmen. Für nicht-linearer Funktionen kommt der Differenzquotient zum Einsatz.\n",
    "\n",
    "Die Definition des Differenzenquotienten für eine Funktion $f$ an der Stelle $x$ mit einer kleinen Änderung $h$ lautet:\n",
    "\n",
    "Differenzenquotient = $\\frac{{f(x + h) - f(x)}}{h}$\n",
    "\n",
    "Dieser Ausdruck beschreibt die durchschnittliche Änderungsrate der Funktion $f$ über das Intervall $[x, x+h]$.\n",
    "\n",
    "In der Praxis wird oft der Grenzwert dieses Quotienten für $h$ gegen $0$ betrachtet, um die instantane Änderungsrate zu bestimmen, das ist die Ableitung der Funktion $f$ an der Stelle $x$:\n",
    "\n",
    "$f'(x) = \\lim_{{h \\to 0}} \\frac{{f(x + h) - f(x)}}{h}$\n",
    "\n",
    "Diese Ableitung ist die Steigung der Tangente an den Graphen der Funktion $f$ im Punkt $x$. Der Differenzenquotient ist also ein zentraler Begriff in der Differentialrechnung."
   ]
  },
  {
   "attachments": {},
   "cell_type": "markdown",
   "metadata": {},
   "source": [
    "Nun sind Sie an der Reihe. In der nächsten Aufgabe werden Sie eine ähnliche Animation wieder finden, wie im vorherigen Kapitel. Hier sollen Sie diese erweitern. Schreiben Sie eine Funktion die eine Tangente an einem Punkt darstellt und deren Steigung durch den Differenzquotienten beschrieben wird.  "
   ]
  },
  {
   "attachments": {},
   "cell_type": "markdown",
   "metadata": {},
   "source": [
    "\n",
    "\n",
    "<div style= \"color: black; background-color: powderblue; margin: 10 px auto; padding: 10px; border-radius: 10px\">\n",
    "    <p style=\"font-size:12pt; text-align:center; color: black; background-color: lightskyblue; margin: 10 px auto; padding: 10px; border-radius: 10px\" id=\"1\"><b>Aufgabe 1</b></p> \n",
    "   \n",
    "In dieser Aufgabe werden Sie Funktionen implementieren und nutzen, um die Konzepte der Ableitung und Tangenten in der Mathematik zu erkunden. Sie werden eine mathematische Funktion und ihre Ableitung definieren, eine Methode zur Approximation der Ableitung verwenden und die Tangente an einem Punkt der Funktion visualisieren.\n",
    "\n",
    "1. **Funktionsimplementierung:**\n",
    "   - Implementieren Sie die Funktion `f(x)`, die eine mathematische Funktion darstellt, die Sie selbst wählen (z.B. eine quadratische Funktion wie $x^2 $).\n",
    "   - Implementieren Sie die Funktion `f_prime(x)`, die die Ableitung von `f(x)` repräsentiert. Für eine quadratische Funktion wäre dies beispielsweise $ 2x $.\n",
    "   - Implementieren Sie zusätzlich die Funktion `f_prime_a(f, x, h)`, die den Differenzquotienten repräsentiert, eine Methode zur Approximation der Ableitung einer Funktion an einem Punkt `x` mit einer kleinen Änderung `h`.\n",
    "\n",
    "2. **Entwicklung und Visualisierung der Tangentenfunktion:**\n",
    "   - Vervollständigen Sie die Funktion `yd(x, x_wert)`. Diese Funktion soll die Gleichung einer Tangente an die Kurve der Funktion `f(x)` an einem bestimmten Punkt `x_wert` darstellen.\n",
    "   - Nutzen Sie die Ableitung der Funktion `f(x)` am Punkt `x_wert` zur Bestimmung der Steigung der Tangente.\n",
    "   - Implementieren Sie die Tangentengleichung: \n",
    "     $$ y = f'(x\\_wert) \\cdot (x - x\\_wert) + f(x\\_wert) $$\n",
    "     Hierbei gibt $f'(x\\_wert)$ die Steigung der Tangente an und $x\\_wert$ den Punkt auf der x-Achse, an dem die Tangente die Funktion $f(x)$ berührt.\n",
    "\n",
    "3. **Analyse der Auswirkungen von `h`:**\n",
    "   - Untersuchen Sie, was passiert, wenn der Wert von `h` (die kleine Änderung in `f_prime_a(f, x, h)`) größer wird.\n",
    "   - Beobachten und beschreiben Sie, wie sich die Genauigkeit der Tangentenapproximation ändert, wenn `h` variiert wird.\n",
    "\n",
    "</div>"
   ]
  },
  {
   "cell_type": "code",
   "execution_count": 3,
   "metadata": {},
   "outputs": [
    {
     "data": {
      "application/vnd.jupyter.widget-view+json": {
       "model_id": "72c205024c8a453793f6c5c4090bc930",
       "version_major": 2,
       "version_minor": 0
      },
      "text/plain": [
       "interactive(children=(FloatSlider(value=0.0, description='x_wert', max=3.0, min=-3.0, step=0.25), FloatSlider(…"
      ]
     },
     "execution_count": 3,
     "metadata": {},
     "output_type": "execute_result"
    }
   ],
   "source": [
    "# 1\n",
    "def f(x):\n",
    "    return x**2\n",
    "\n",
    "# 1\n",
    "def f_prime(x):\n",
    "    return 2*x \n",
    "    \n",
    "# 1\n",
    "def f_prime_a(f, x, h):\n",
    "    return (f(x + h) - f(x)) / h\n",
    "    \n",
    "def plot(x_wert,h):\n",
    "\n",
    "    x = np.linspace(-10,10,1000)\n",
    "    y = f(x)\n",
    "    print(\"Steigung am x-Wert \", str(x_wert), \" beträgt: \", f_prime(x_wert))\n",
    "    print(\"Approximation der Steigung am x-Wert \", str(x_wert), \" beträgt: \", f_prime_a(f,x_wert,h))\n",
    "    if x_wert < 0:\n",
    "        x1, y1 = [x_wert, x_wert - h], [f(x_wert), f(x_wert)]\n",
    "        x2, y2 = [x_wert - h, x_wert - h], [f(x_wert), f(x_wert - h)]\n",
    "    else:\n",
    "        x1, y1 = [x_wert, x_wert + h], [f(x_wert), f(x_wert)]\n",
    "        x2, y2 = [x_wert + h, x_wert + h], [f(x_wert), f(x_wert + h)]\n",
    "    plt.figure(figsize=(8, 6),dpi=75)\n",
    "    plt.plot(x1, y1,x2,y2,color=\"black\")\n",
    "    \n",
    "    # 2\n",
    "    def yd(x,x_wert):\n",
    "        return f_prime_a(f,x_wert,h) * (x - x_wert) + f(x_wert)\n",
    "    \n",
    "    plt.plot(x,yd(x,x_wert),color=\"black\")\n",
    "\n",
    "    plt.scatter(x_wert,f(x_wert),color=\"red\")\n",
    "    plt.plot(x, y, lw=2, color=\"lightblue\")\n",
    "    ax = plt.subplot()\n",
    "    plt.xlim(-5, 5)\n",
    "    plt.ylim(-1, 9)\n",
    "    plt.show()\n",
    "\n",
    "interactive(plot,  x_wert = widgets.FloatSlider(min = -3, max = 3, step = 0.25, value = 0),h = widgets.FloatSlider(min = 1E-8, max = 2, step = 0.00125, value = 2))"
   ]
  },
  {
   "attachments": {},
   "cell_type": "markdown",
   "metadata": {},
   "source": [
    "## Ableitungen mit Sympy"
   ]
  },
  {
   "attachments": {},
   "cell_type": "markdown",
   "metadata": {},
   "source": [
    "SymPy ist eine Python-Bibliothek für symbolische Mathematik, die es ermöglicht, mathematische Ausdrücke präzise und in einer Form darzustellen, die der handschriftlichen Form sehr nahe kommt. Sie eignet sich hervorragend für Aufgaben wie das Differenzieren von Funktionen. \n",
    "\n",
    "In SymPy müssen Sie zuerst symbolische Variablen definieren, bevor Sie sie in Ausdrücken verwenden können. Zum Beispiel:"
   ]
  },
  {
   "cell_type": "code",
   "execution_count": 2,
   "metadata": {},
   "outputs": [],
   "source": [
    "import sympy as sp\n",
    "\n",
    "x = sp.symbols('x')"
   ]
  },
  {
   "attachments": {},
   "cell_type": "markdown",
   "metadata": {},
   "source": [
    "Mit SymPy können Sie mathematische Funktionen definieren. Zum Beispiel:"
   ]
  },
  {
   "cell_type": "code",
   "execution_count": 4,
   "metadata": {},
   "outputs": [
    {
     "data": {
      "text/latex": [
       "$\\displaystyle x^{2} + 3 x + 5$"
      ],
      "text/plain": [
       "x**2 + 3*x + 5"
      ]
     },
     "execution_count": 4,
     "metadata": {},
     "output_type": "execute_result"
    }
   ],
   "source": [
    "f = x**2 + 3*x + 5\n",
    "f"
   ]
  },
  {
   "attachments": {},
   "cell_type": "markdown",
   "metadata": {},
   "source": [
    "Das Ableiten einer Funktion mit SymPy ist einfach. Sie verwenden die diff()-Funktion. Zum Beispiel, um die erste Ableitung der Funktion f zu finden, würden Sie schreiben:"
   ]
  },
  {
   "cell_type": "code",
   "execution_count": 5,
   "metadata": {},
   "outputs": [
    {
     "data": {
      "text/latex": [
       "$\\displaystyle 2 x + 3$"
      ],
      "text/plain": [
       "2*x + 3"
      ]
     },
     "execution_count": 5,
     "metadata": {},
     "output_type": "execute_result"
    }
   ],
   "source": [
    "df1 = sp.diff(f, x)\n",
    "df1"
   ]
  },
  {
   "attachments": {},
   "cell_type": "markdown",
   "metadata": {},
   "source": [
    "Sie können auch höhere Ableitungen berechnen. Zum Beispiel, um die zweite Ableitung zu finden, würden Sie:"
   ]
  },
  {
   "cell_type": "code",
   "execution_count": 6,
   "metadata": {},
   "outputs": [
    {
     "data": {
      "text/latex": [
       "$\\displaystyle 2$"
      ],
      "text/plain": [
       "2"
      ]
     },
     "execution_count": 6,
     "metadata": {},
     "output_type": "execute_result"
    }
   ],
   "source": [
    "df2 = sp.diff(f, x, 2)\n",
    "df2"
   ]
  },
  {
   "attachments": {},
   "cell_type": "markdown",
   "metadata": {},
   "source": [
    "SymPy ermöglicht es Ihnen auch, den Wert einer Ableitung an einem bestimmten Punkt zu berechnen. Zum Beispiel, um den Wert der ersten Ableitung von f bei x = 1 zu finden, würden Sie:"
   ]
  },
  {
   "cell_type": "code",
   "execution_count": 7,
   "metadata": {},
   "outputs": [
    {
     "data": {
      "text/latex": [
       "$\\displaystyle 9$"
      ],
      "text/plain": [
       "9"
      ]
     },
     "execution_count": 7,
     "metadata": {},
     "output_type": "execute_result"
    }
   ],
   "source": [
    "f_at_1 = f.subs(x,1)\n",
    "f_at_1"
   ]
  },
  {
   "attachments": {},
   "cell_type": "markdown",
   "metadata": {},
   "source": [
    "Nun sollen Sie die Methoden selbst ausprobieren."
   ]
  },
  {
   "attachments": {},
   "cell_type": "markdown",
   "metadata": {},
   "source": [
    "<div style= \"color: black;background-color: powderblue ;margin: 10 px auto; padding: 10px; border-radius: 10px\">\n",
    "    <p style=\"font-size:12pt; text-align:center; color:   black; background-color: lightskyblue ;margin: 10 px auto; padding: 10px; border-radius: 10px\" id=\"1\"><b>Aufgabe 2</b>  </p> \n",
    "    \n",
    "Das Ziel dieser Aufgabe ist es, Ihre Fähigkeiten im Umgang mit SymPy zu vertiefen, indem Sie eine Funktion definieren, ihre Ableitung bestimmen und dann die Ableitung an einem bestimmten Punkt auswerten.\n",
    "\n",
    "1. **Funktion definieren:**\n",
    "   - Verwenden Sie SymPy, um eine symbolische Variable `x` zu definieren.\n",
    "   - Definieren Sie eine Funktion $f(x) =  x^4 + 3x^2 + 5 $.\n",
    "\n",
    "2. **Ableitung der Funktion bestimmen:**\n",
    "   - Berechnen Sie die erste Ableitung der Funktion $f(x)$ und speichern Sie sie in einer Variablen `f_prime`.\n",
    "\n",
    "3. **Auswertung der Ableitung:**\n",
    "   - Bestimmen Sie den Wert der Ableitung `f_prime` an der Stelle $x = 2$. Speichern Sie das Ergebnis in einer Variablen `f_prime_at_2`.\n",
    "\n"
   ]
  },
  {
   "cell_type": "code",
   "execution_count": 13,
   "metadata": {},
   "outputs": [],
   "source": [
    "# ???\n",
    "x = sp.symbols('x')\n",
    "f2 = x**4 + 3*x**2 + 5\n",
    "f_prime = sp.diff(f2, x)\n",
    "f_prime_at_2 = f_prime.subs(x,2)"
   ]
  },
  {
   "attachments": {},
   "cell_type": "markdown",
   "metadata": {},
   "source": [
    "# Extremstellen"
   ]
  },
  {
   "attachments": {},
   "cell_type": "markdown",
   "metadata": {},
   "source": [
    "Extremstellen sind Punkte auf der Graphenkurve einer Funktion, an denen entweder ein lokales Maximum oder ein lokales Minimum erreicht wird.\n",
    "\n",
    "Ein lokales Maximum ist ein Punkt, an dem die Funktion einen höheren Wert hat als in allen unmittelbar benachbarten Punkten. Ebenso ist ein lokales Minimum ein Punkt, an dem die Funktion einen niedrigeren Wert hat als in allen unmittelbar benachbarten Punkten.\n",
    "\n",
    "Es gibt auch globale Extremstellen, bei denen die Funktion ihr absolutes Maximum oder Minimum erreicht, das heißt, es sind die höchsten oder niedrigsten Punkte auf dem gesamten Graphen der Funktion.\n",
    "\n",
    "Extremstellen können durch verschiedene Methoden bestimmt werden. Eine gebräuchliche Methode ist die Verwendung der Ableitung der Funktion. Extremstellen treten auf, wenn die erste Ableitung der Funktion gleich Null ist und die zweite Ableitung nicht null ist.\n",
    "\n",
    "Wenn $f'(x) = 0$ und $f''(x) < 0$, dann hat die Funktion $f$ an der Stelle $x$ ein lokales Maximum. Wenn $f'(x) = 0$ und $f''(x) > 0$, dann hat die Funktion $f$ an der Stelle x ein lokales Minimum.\n",
    "\n",
    "Eine weitere Methode zur Bestimmung von Extremstellen ist die Untersuchung des Vorzeichenswechsels der ersten Ableitung. Ändert sich das Vorzeichen von $f'(x)$ von positiv auf negativ, liegt ein lokales Maximum vor, wechselt es von negativ auf positiv, handelt es sich um ein lokales Minimum.\n",
    "\n",
    "Beachten Sie jedoch, dass nicht jeder Punkt, an dem die erste Ableitung null ist, eine Extremstelle ist. Dies könnte auch ein Sattelpunkt sein, bei dem die Funktion eine flache Tangente hat, aber keine lokale Extremstelle bildet.\n",
    "\n",
    "In den nächsten beiden Aufgaben sollen Sie die Extremstellen numerisch berechnen. Zuerst sollen Sie den zuvor behandelten Differenzquotienten verwenden, um die Ableitungen zu approximieren. Anschliessend sollen Sie Sympy verwenden um das gleiche zu erzielen."
   ]
  },
  {
   "attachments": {},
   "cell_type": "markdown",
   "metadata": {},
   "source": [
    "\n",
    "<div style=\"color: black; background-color: powderblue; margin: 10px auto; padding: 10px; border-radius: 10px\">\n",
    "    <p style=\"font-size:12pt; text-align:center; color: black; background-color: lightskyblue; margin: 10px auto; padding: 10px; border-radius: 10px\" id=\"1\"><b>Aufgabe 2</b></p> \n",
    "\n",
    "In dieser Aufgabe geht es um die Identifizierung und Klassifizierung von Extremstellen (Hoch- und Tiefpunkten) einer gegebenen Funktion. Sie werden Funktionen implementieren, um die zweite Ableitung zu approximieren und Extremstellen innerhalb eines bestimmten Intervalls zu finden und zu klassifizieren.\n",
    "\n",
    "**Ziel:**\n",
    "\n",
    "- Entwickeln Sie Methoden zur Approximation der zweiten Ableitung und zur Identifizierung von Extremstellen in einem vorgegebenen Wertebereich.\n",
    "\n",
    "**Anforderungen:**\n",
    "\n",
    "1. **Zweite Ableitung approximieren:**\n",
    "   - Implementieren Sie die Funktion `f_prime_prime(f, x, h=1e-7)`. Diese Funktion soll die zweite Ableitung der Funktion `f` an einem Punkt `x` mithilfe des Differenzquotienten approximieren.\n",
    "   - Verwenden Sie einen kleinen Wert für `h` (z.B. `1e-7`), um eine genaue Approximation zu erreichen. Beachten Sie jedoch, dass zu kleine Werte von `h` zu numerischen Ungenauigkeiten führen können.\n",
    "\n",
    "2. **Extremstellen finden und klassifizieren:**\n",
    "   - Implementieren Sie die Funktion `find_stationary_points(f, x_values)`. Diese Funktion soll alle Extremstellen innerhalb des durch die Liste oder den Bereich `x_values` definierten Intervalls identifizieren.\n",
    "   - Die Funktion soll für jeden Punkt in `x_values` die erste Ableitung prüfen. Ein Punkt gilt als potentielle Extremstelle, wenn der Betrag der ersten Ableitung nahe Null ist (z.B. kleiner oder gleich `h`).\n",
    "   - Für jede identifizierte Extremstelle soll die Funktion die zweite Ableitung prüfen, um die Art der Extremstelle zu bestimmen:\n",
    "     - Ein Punkt wird als \"Tiefpunkt\" klassifiziert, wenn die zweite Ableitung an diesem Punkt positiv ist.\n",
    "     - Ein Punkt wird als \"Hochpunkt\" klassifiziert, wenn die zweite Ableitung an diesem Punkt negativ ist.\n",
    "   - Die Funktion `find_stationary_points` soll eine Liste von Extremstellen und deren Klassifikation als \"Hochpunkt\" oder \"Tiefpunkt\" zurückgeben.\n",
    "\n",
    "**Beispiel:**\n",
    "\n",
    "Für die Funktion `f(x)`:\n",
    "```\n",
    "    def f(x): \n",
    "        return 3*x**3 - 3*x**2 - 2*x\n",
    "```\n",
    "soll die Methode folgendes wieder geben:\n",
    "```\n",
    "[-0.24902490249024822, 0.9050905090509058]\n",
    "['hoch', 'tief']\n",
    "```\n",
    "\n",
    "**Hinweis:** Die Genauigkeit der Ergebnisse kann von der Wahl des Parameters `h` abhängen, und es ist wichtig, dessen Auswirkungen auf die Berechnungen zu verstehen.\n",
    "\n"
   ]
  },
  {
   "cell_type": "code",
   "execution_count": 132,
   "metadata": {},
   "outputs": [],
   "source": [
    "def f_prime(f, x, h=1e-7):\n",
    "    return (f(x + h) - f(x)) / (h)\n",
    "\n",
    "def f(x):\n",
    "    return 3*x**3 - 3*x**2 - 2*x\n",
    "\n",
    "# ???\n",
    "def f_prime_prime(f, x, h=1e-7):\n",
    "    return (f_prime(f,x + h) - f_prime(f,x)) / (h)\n",
    "\n",
    "# ???\n",
    "def find_stationary_points(f, x_values):\n",
    "    h = 0.01\n",
    "    stationary_points = []\n",
    "    \n",
    "    for x in x_values:\n",
    "        derivative = f_prime(f, x, h)\n",
    "        if abs(derivative) <= h:  \n",
    "            stationary_points.append(x)\n",
    "\n",
    "    classification = []\n",
    "    for point in stationary_points:\n",
    "        clas = \"tief\" if f_prime_prime(f,point) > 0 else \"hoch\"\n",
    "        classification.append(clas)\n",
    "\n",
    "    return stationary_points, classification"
   ]
  },
  {
   "cell_type": "code",
   "execution_count": 128,
   "metadata": {},
   "outputs": [
    {
     "name": "stdout",
     "output_type": "stream",
     "text": [
      "[-0.24902490249024822, 0.9050905090509058]\n",
      "['hoch', 'tief']\n"
     ]
    },
    {
     "data": {
      "image/png": "[encoded data removed]",
      "text/plain": [
       "<Figure size 540x324 with 1 Axes>"
      ]
     },
     "metadata": {
      "needs_background": "light"
     },
     "output_type": "display_data"
    }
   ],
   "source": [
    "# Beispielaufruf\n",
    "x_values = x = np.linspace(-10,10,10000) \n",
    "\n",
    "stationary_points,clas = find_stationary_points(f, x_values)\n",
    "\n",
    "\n",
    "plt.figure(figsize=(7.5, 4.5))\n",
    "plt.plot(x_values, f(x_values), label='f(x)')\n",
    "\n",
    "print(stationary_points)\n",
    "print(clas)\n",
    "for point in stationary_points:\n",
    "    plt.scatter(point, f(point), color=\"red\")\n",
    "\n",
    "plt.xlabel('x')\n",
    "plt.ylabel('f(x)')\n",
    "plt.legend()\n",
    "plt.grid(True)\n",
    "plt.ylim(-18,18)\n",
    "plt.xlim(-4,4)\n",
    "plt.show()"
   ]
  },
  {
   "attachments": {},
   "cell_type": "markdown",
   "metadata": {},
   "source": [
    "\n",
    "<div style=\"color: black; background-color: powderblue; margin: 10 px auto; padding: 10px; border-radius: 10px\">\n",
    "    <p style=\"font-size:12pt; text-align:center; color: black; background-color: lightskyblue; margin: 10 px auto; padding: 10px; border-radius: 10px\" id=\"1\"><b>Aufgabe 3</b></p> \n",
    "\n",
    "In dieser Aufgabe verwenden Sie die Bibliothek Sympy, um Extremstellen (Maxima und Minima) einer gegebenen Funktion zu identifizieren und zu klassifizieren. \n",
    "\n",
    "**Anforderungen:**\n",
    "\n",
    "1. **Implementierung der Funktion `find_stationary_points(f)`:**\n",
    "   - Die Funktion `find_stationary_points(f)` soll mithilfe von Sympy die Extremstellen der Funktion `f` identifizieren.\n",
    "   - Verwenden Sie innerhalb dieser Funktion `sp.diff(f, x)` zur Berechnung der ersten Ableitung von `f` und `sp.diff(f, x, 2)` für die zweite Ableitung.\n",
    "\n",
    "2. **Ermittlung der stationären Punkte:**\n",
    "   - Bestimmen Sie die stationären Punkte (Nullstellen der ersten Ableitung) von `f` mit dem Befehl `sp.solveset(f_first_derivative, x)`.\n",
    "\n",
    "3. **Klassifizierung der stationären Punkte:**\n",
    "   - Klassifizieren Sie jeden gefundenen stationären Punkt als \"Hochpunkt\" (Maximum) oder \"Tiefpunkt\" (Minimum), basierend auf dem Vorzeichen der zweiten Ableitung an diesen Punkten.\n",
    "   - Ein stationärer Punkt wird als \"Tiefpunkt\" klassifiziert, wenn die zweite Ableitung an diesem Punkt positiv ist; er wird als \"Hochpunkt\" klassifiziert, wenn die zweite Ableitung negativ ist.\n",
    "\n",
    "4. **Rückgabe der Ergebnisse:**\n",
    "   - Die Funktion sollte eine Liste von Tupeln zurückgeben. Jedes Tupel soll einen stationären Punkt (in der Form eines Sympy-Ausdrucks oder einer Zahl) und seine Klassifizierung (entweder \"Hochpunkt\" oder \"Tiefpunkt\") enthalten.\n",
    "\n"
   ]
  },
  {
   "cell_type": "code",
   "execution_count": 137,
   "metadata": {},
   "outputs": [],
   "source": [
    "# ???\n",
    "def find_stationary_points(f):\n",
    "    x = sp.symbols('x')\n",
    "\n",
    "    f_first_derivative = sp.diff(f, x)\n",
    "    f_second_derivative = sp.diff(f, x, 2)\n",
    "    solutions = sp.solveset(f_first_derivative, x)\n",
    "\n",
    "    stationary_points_and_curv = []\n",
    "    \n",
    "    for point in solutions:\n",
    "        left_concavity = \"tief\" if f_second_derivative.subs(x, point) > 0 else \"hoch\"\n",
    "        stationary_points_and_curv.append((point, left_concavity))\n",
    "\n",
    "    return stationary_points_and_curv"
   ]
  },
  {
   "cell_type": "code",
   "execution_count": 138,
   "metadata": {},
   "outputs": [
    {
     "name": "stdout",
     "output_type": "stream",
     "text": [
      "Extremstellen: [(1/3 - sqrt(3)/3, 'hoch'), (1/3 + sqrt(3)/3, 'tief')]\n"
     ]
    }
   ],
   "source": [
    "# Beispielaufruf\n",
    "x = sp.symbols('x')\n",
    "f = 3*x**3 - 3*x**2 - 2*x\n",
    "\n",
    "print(\"Extremstellen:\", find_stationary_points(f))"
   ]
  },
  {
   "attachments": {},
   "cell_type": "markdown",
   "metadata": {},
   "source": [
    "# Wendestellen"
   ]
  },
  {
   "attachments": {},
   "cell_type": "markdown",
   "metadata": {},
   "source": [
    "Eine Wendestelle oder Umkehrpunkt ist ein Punkt auf dem Graphen einer Funktion, an dem die Funktion ihre Krümmungsrichtung ändert. Man kann sich eine Wendestelle als einen Punkt vorstellen, an dem die Funktion von \"nach unten gekrümmt\" zu \"nach oben gekrümmt\" wechselt, oder umgekehrt.\n",
    "\n",
    "Um eine Wendestelle zu identifizieren, wird die zweite Ableitung der Funktion, auch bekannt als die Funktion der Krümmung, herangezogen. An einer Wendestelle wechselt die zweite Ableitung ihr Vorzeichen.\n",
    "\n",
    "Formal lässt sich sagen, dass für eine Funktion $f(x)$, der Punkt $x = a$ eine Wendestelle ist, wenn:\n",
    "\n",
    "1. Die zweite Ableitung existiert in einer offenen Umgebung um $a$, mit Ausnahme möglicherweise bei $a$ selbst.\n",
    "\n",
    "2. Die zweite Ableitung ändert ihr Vorzeichen bei $a$ (von positiv zu negativ oder von negativ zu positiv).\n",
    "\n",
    "Es ist zu beachten, dass nicht jeder Punkt, an dem die zweite Ableitung null ist, eine Wendestelle ist. Man muss tatsächlich überprüfen, dass ein Vorzeichenwechsel vorliegt. Im Fall, dass $f''(a) = 0$ und kein Vorzeichenwechsel vorliegt, ist der Punkt $a$ kein Wendepunkt.\n",
    "\n",
    "In einigen Fällen, muss man sogar die höheren Ableitungen prüfen, um festzustellen, ob ein Punkt eine Wendestelle ist.\n",
    "\n",
    "Nun sind Sie wieder an der Reihe. Vervollständigen Sie die nachfolgende Methode um die Wendestlle einer Funktion mithilfe von Sympy zu finden."
   ]
  },
  {
   "attachments": {},
   "cell_type": "markdown",
   "metadata": {},
   "source": [
    "\n",
    "<div style=\"color: black; background-color: powderblue; margin: 10 px auto; padding: 10px; border-radius: 10px\">\n",
    "    <p style=\"font-size:12pt; text-align:center; color: black; background-color: lightskyblue; margin: 10 px auto; padding: 10px; border-radius: 10px\" id=\"1\"><b>Aufgabe 3</b></p> \n",
    "\n",
    "**Aufgabe 3**\n",
    "\n",
    "Ziel dieser Aufgabe ist es, die Wendepunkte und das Krümmungsverhalten einer vorgegebenen Funktion zu analysieren und zu berechnen, indem Sie die Sympy-Bibliothek verwenden. Sie werden eine Methode entwickeln, die sowohl die Wendepunkte als auch das Krümmungsverhalten der Funktion an diesen Punkten bestimmt.\n",
    "\n",
    "**Anforderungen:**\n",
    "\n",
    "1. **Entwicklung der Methode `inflection_and_concavity(f)`:**\n",
    "   - Implementieren Sie eine Funktion `inflection_and_concavity(f)`, die die Wendepunkte einer Funktion `f` findet und das Krümmungsverhalten an diesen Punkten analysiert.\n",
    "   - Verwenden Sie `sp.diff(f, x, 2)` zur Berechnung der zweiten Ableitung von `f`.\n",
    "\n",
    "2. **Identifizierung von Wendepunkten:**\n",
    "   - Bestimmen Sie die Wendepunkte der Funktion `f`, indem Sie die Nullstellen der zweiten Ableitung mithilfe von `sp.solveset(f_second_derivative, x)` ermitteln. Die Nullstellen der zweiten Ableitung sind die Wendepunkte.\n",
    "\n",
    "3. **Analyse des Krümmungsverhaltens:**\n",
    "   - Untersuchen Sie das Krümmungsverhalten links und rechts von jedem Wendepunkt. Dazu überprüfen Sie den Wert der zweiten Ableitung kurz vor und kurz nach jedem Wendepunkt (z.B. bei `point - 1e-6` und `point + 1e-6`).\n",
    "   - Klassifizieren Sie das Krümmungsverhalten als \"konvex\" oder \"konkav\", abhängig davon, ob die zweite Ableitung an diesen Stellen positiv (konvex) oder negativ (konkav) ist.\n",
    "\n",
    "4. **Rückgabe der Ergebnisse:**\n",
    "   - Die Methode `inflection_and_concavity` sollte eine Liste von Tupeln zurückgeben. Jedes Tupel besteht aus einem Wendepunkt und seinem Krümmungsverhalten links und rechts davon (z.B. `(point, left_concavity, right_concavity)`).\n",
    "\n",
    "</div>\n"
   ]
  },
  {
   "cell_type": "code",
   "execution_count": 139,
   "metadata": {},
   "outputs": [
    {
     "name": "stdout",
     "output_type": "stream",
     "text": [
      "Wendestellen und Krümmung: [(-1.15070900594776, 'hoch', 'runter'), (1.20070900594776, 'runter', 'hoch')]\n"
     ]
    },
    {
     "data": {
      "image/png": "[encoded data removed]",
      "text/plain": [
       "<Figure size 540x324 with 1 Axes>"
      ]
     },
     "metadata": {
      "needs_background": "light"
     },
     "output_type": "display_data"
    }
   ],
   "source": [
    "# ???\n",
    "def inflection_and_concavity(f):\n",
    "    x = sp.symbols('x')\n",
    "\n",
    "    f_second_derivative = sp.diff(f, x, 2)\n",
    "\n",
    "    solutions = sp.solveset(f_second_derivative, x)\n",
    "\n",
    "    inflection_points_and_concavities = []\n",
    "    for point in solutions:\n",
    "        left_concavity = \"hoch\" if f_second_derivative.subs(x, point - 1e-6) > 0 else \"runter\"\n",
    "        right_concavity = \"hoch\" if f_second_derivative.subs(x, point + 1e-6) > 0 else \"runter\"\n",
    "        inflection_points_and_concavities.append((point, left_concavity, right_concavity))\n",
    "\n",
    "    return inflection_points_and_concavities\n",
    "\n",
    "x = sp.symbols('x')\n",
    "f = (x + 0.9) * (x - 1.3) * (x - 2.5) * (x + 2.8)\n",
    "\n",
    "inflection_points_and_concavities = inflection_and_concavity(f)\n",
    "\n",
    "print(\"Wendestellen und Krümmung:\", inflection_points_and_concavities)\n",
    "\n",
    "# ???\n",
    "x_values = np.linspace(-10, 10, 1000)\n",
    "y_values = [f.subs(x, val) for val in x_values]\n",
    "\n",
    "plt.figure(figsize=(7.5, 4.5))\n",
    "plt.plot(x_values, y_values, label='f(x)')\n",
    "\n",
    "for point, _, _ in inflection_points_and_concavities:\n",
    "    plt.plot(point, f.subs(x, point), 'ro')\n",
    "\n",
    "plt.title('Function f(x) and its inflection points')\n",
    "plt.xlabel('x')\n",
    "plt.ylabel('f(x)')\n",
    "plt.legend()\n",
    "plt.ylim(-18,18)\n",
    "plt.xlim(-4,4)\n",
    "plt.grid(True)\n",
    "plt.show()"
   ]
  },
  {
   "attachments": {},
   "cell_type": "markdown",
   "metadata": {},
   "source": [
    "# Grenzwert mit Sympy"
   ]
  },
  {
   "attachments": {},
   "cell_type": "markdown",
   "metadata": {},
   "source": [
    "Der Begriff \"Grenzwert\" beschreibt das Verhalten einer Funktion, wenn sich ihr Argument einem bestimmten Wert nähert. Es gibt verschiedene Arten von Grenzwerten, darunter:\n",
    "\n",
    "1. Grenzwerte an einer Stelle: Man möchte herausfinden, welchen Wert $ f(x) $ annimmt oder sich nähert, wenn $ x $ gegen eine bestimmte Zahl strebt. Symbolisch wird dies oft so ausgedrückt:\n",
    "$ \\lim_{{x \\to a}} f(x) = L $\n",
    "Das bedeutet, dass $ f(x) $ gegen den Wert $L $ strebt, wenn $ x $ sich dem Wert $a $ nähert.\n",
    "\n",
    "1. Grenzwerte im Unendlichen: Man möchte herausfinden, welchen Wert $ f(x) $ annimmt oder sich nähert, wenn $ x $ gegen Unendlich (oder minus Unendlich) strebt. Zum Beispiel:\n",
    "$ \\lim_{{x \\to \\infty}} f(x) = L $\n",
    "\n"
   ]
  },
  {
   "attachments": {},
   "cell_type": "markdown",
   "metadata": {},
   "source": [
    "Eine kurze Einführung in die Berechnung von Grenzwerten mit Sympy:"
   ]
  },
  {
   "cell_type": "code",
   "execution_count": 3,
   "metadata": {},
   "outputs": [
    {
     "name": "stdout",
     "output_type": "stream",
     "text": [
      "Der Grenzwert von f(x) = 1/x, wenn x gegen 0 von rechts strebt, ist: oo\n",
      "Der Grenzwert von f(x) = 1/x, wenn x gegen 0 von links strebt, ist: -oo\n",
      "Der Grenzwert von f(x) = 1/x, wenn x gegen Unendlich strebt, ist: 0\n",
      "Der Grenzwert von f(x) = 1/x, wenn x gegen 2 strebt, ist: 1/2\n"
     ]
    }
   ],
   "source": [
    "from sympy import symbols, limit, oo  # oo steht für Unendlich in SymPy\n",
    "\n",
    "# Definieren Sie die Variablen\n",
    "x = symbols('x')\n",
    "\n",
    "# Definieren Sie die Funktion\n",
    "f = 1/x\n",
    "\n",
    "# Grenzwert von f, wenn x gegen 0 von der rechten Seite strebt\n",
    "limit_value_right = limit(f, x, 0, dir='+')\n",
    "print(f\"Der Grenzwert von f(x) = 1/x, wenn x gegen 0 von rechts strebt, ist: {limit_value_right}\")\n",
    "\n",
    "# Grenzwert von f, wenn x gegen 0 von der linken Seite strebt\n",
    "limit_value_left = limit(f, x, 0, dir='-')\n",
    "print(f\"Der Grenzwert von f(x) = 1/x, wenn x gegen 0 von links strebt, ist: {limit_value_left}\")\n",
    "\n",
    "# Grenzwert von f, wenn x gegen Unendlich strebt\n",
    "limit_value_infinity = limit(f, x, oo)\n",
    "print(f\"Der Grenzwert von f(x) = 1/x, wenn x gegen Unendlich strebt, ist: {limit_value_infinity}\")\n",
    "\n",
    "# Grenzwert von f, wenn x gegen 2 strebt\n",
    "lim_at_2 = limit(f, x, 2)\n",
    "print(f\"Der Grenzwert von f(x) = 1/x, wenn x gegen 2 strebt, ist: {lim_at_2}\")"
   ]
  },
  {
   "attachments": {},
   "cell_type": "markdown",
   "metadata": {},
   "source": [
    "<div style= \"color: black;background-color: powderblue ;margin: 10 px auto; padding: 10px; border-radius: 10px\">\n",
    "    <p style=\"font-size:12pt; text-align:center; color:   black; background-color: lightskyblue ;margin: 10 px auto; padding: 10px; border-radius: 10px\" id=\"1\"><b>Aufgabe 4</b>  </p>\n",
    "\n",
    "In dieser Aufgabe sollen Sie die Grenzwerte für Funktionen bestimmen. Dies sollen Sie mit Sympy tun und die Ergebnisse per Hand validieren.\n",
    "\n",
    "1. Bestimmen Sie den Grenzwert für die Funktion $ \\lim_{{x \\to 0}} f(x) = x^2 - 3x + 2$.\n",
    "\n",
    "2. Bestimmen Sie den Grenzwert für die Funktion $ \\lim_{{x \\to 0}} f(x) = \\frac{x^2 +4 }{2x}$.\n",
    "\n",
    "3. Bestimmen Sie den Grenzwert für die Funktion $ \\lim_{{x \\to 0}}f(x) = \\frac{x}{|x|}$.\n",
    "4. Bestimmen Sie den Grenzwert für die Funktion $ \\lim_{{x \\to 0^-}} f(x) = \\sqrt{x}$.\n",
    "\n",
    "**Tipp**:\n",
    "\n",
    "Plotten Sie die Funktionen um die Ergebnisse von Sympy zu verifizieren.\n",
    "\n",
    "**Wichtig:**\n",
    "\n",
    "Hinterfragen Sie die Ergbnisse. Nur weil Sympy ein Ergebnis wiedergibt, bedeutet dies nicht direkt, dass dieses auch mathematisch korrekt ist. Begründen Sie somit auch, wieso das jeweilige Ergebnis korrekt oder inkorrekt ist."
   ]
  },
  {
   "cell_type": "code",
   "execution_count": 5,
   "metadata": {},
   "outputs": [
    {
     "name": "stdout",
     "output_type": "stream",
     "text": [
      "7\n"
     ]
    },
    {
     "data": {
      "text/plain": [
       "[<matplotlib.lines.Line2D at 0x7fee1f64c320>]"
      ]
     },
     "execution_count": 5,
     "metadata": {},
     "output_type": "execute_result"
    },
    {
     "data": {
      "image/png": "[encoded data removed]",
      "text/plain": [
       "<Figure size 432x288 with 1 Axes>"
      ]
     },
     "metadata": {
      "needs_background": "light"
     },
     "output_type": "display_data"
    }
   ],
   "source": [
    "# Teilaufgabe 1\n",
    "def f_poly(x):\n",
    "    return  x**2 - 3*x + 7\n",
    "\n",
    "x = sp.symbols('x')\n",
    "\n",
    "limit = sp.limit(f_poly(x), x, 0)\n",
    "print(limit)\n",
    "\n",
    "fig, ax = plt.subplots()\n",
    "x = np.arange(-5,6)\n",
    "y = f_poly(x)\n",
    "ax.axhline(y=0, color='k')\n",
    "ax.axvline(x=0, color='k')\n",
    "plt.plot(x,y)"
   ]
  },
  {
   "cell_type": "code",
   "execution_count": 3,
   "metadata": {},
   "outputs": [
    {
     "name": "stdout",
     "output_type": "stream",
     "text": [
      "oo\n"
     ]
    },
    {
     "name": "stderr",
     "output_type": "stream",
     "text": [
      "/Users/hakim/Library/Python/3.7/lib/python/site-packages/ipykernel_launcher.py:2: RuntimeWarning: divide by zero encountered in true_divide\n",
      "  \n"
     ]
    },
    {
     "data": {
      "text/plain": [
       "[<matplotlib.lines.Line2D at 0x7fee1f485128>]"
      ]
     },
     "execution_count": 3,
     "metadata": {},
     "output_type": "execute_result"
    },
    {
     "data": {
      "image/png": "[encoded data removed]",
      "text/plain": [
       "<Figure size 432x288 with 1 Axes>"
      ]
     },
     "metadata": {
      "needs_background": "light"
     },
     "output_type": "display_data"
    }
   ],
   "source": [
    "def f_frac(x):\n",
    "    return (x**2 + 4)/(2*x)\n",
    "\n",
    "x = sp.symbols(\"x\")\n",
    "limit = sp.limit(f_frac(x), x, 0)\n",
    "print(limit)\n",
    "\n",
    "fig, ax = plt.subplots()\n",
    "x = np.arange(-15,15)\n",
    "y = f_frac(x)\n",
    "ax.axhline(y=0, color='k')\n",
    "ax.axvline(x=0, color='k')\n",
    "plt.plot(x,y)"
   ]
  },
  {
   "cell_type": "code",
   "execution_count": 37,
   "metadata": {},
   "outputs": [
    {
     "name": "stdout",
     "output_type": "stream",
     "text": [
      "1\n"
     ]
    },
    {
     "name": "stderr",
     "output_type": "stream",
     "text": [
      "/tmp/ipykernel_8016/1783473887.py:3: RuntimeWarning: invalid value encountered in divide\n",
      "  return (x/abs(x))\n"
     ]
    },
    {
     "data": {
      "text/plain": [
       "[<matplotlib.lines.Line2D at 0x7ff0317c9190>]"
      ]
     },
     "execution_count": 37,
     "metadata": {},
     "output_type": "execute_result"
    },
    {
     "data": {
      "image/png": "[encoded data removed]",
      "text/plain": [
       "<Figure size 432x288 with 1 Axes>"
      ]
     },
     "metadata": {
      "needs_background": "light"
     },
     "output_type": "display_data"
    }
   ],
   "source": [
    "# Teilaufgabe 3\n",
    "def f_abs(x):\n",
    "    return (x/abs(x))\n",
    "\n",
    "limit = sp.limit(f_abs(x), x, 0)\n",
    "print(limit)\n",
    "\n",
    "fig, ax = plt.subplots()\n",
    "x = np.arange(-15,15)\n",
    "y = f_abs(x)\n",
    "ax.axhline(y=0, color='k')\n",
    "ax.axvline(x=0, color='k')\n",
    "plt.plot(x,y)"
   ]
  },
  {
   "cell_type": "code",
   "execution_count": 7,
   "metadata": {},
   "outputs": [
    {
     "name": "stdout",
     "output_type": "stream",
     "text": [
      "0\n"
     ]
    },
    {
     "data": {
      "text/plain": [
       "[<matplotlib.lines.Line2D at 0x7fee20062390>]"
      ]
     },
     "execution_count": 7,
     "metadata": {},
     "output_type": "execute_result"
    },
    {
     "data": {
      "image/png": "[encoded data removed]",
      "text/plain": [
       "<Figure size 432x288 with 1 Axes>"
      ]
     },
     "metadata": {
      "needs_background": "light"
     },
     "output_type": "display_data"
    }
   ],
   "source": [
    "# Teilaufgabe 4  \n",
    "def f_sqrt(x):\n",
    "    return np.sqrt(x)\n",
    "\n",
    "x = sp.symbols('x')\n",
    "limit = sp.limit(sp.sqrt(x), x, 0,\"-\")\n",
    "print(limit)\n",
    "\n",
    "fig, ax = plt.subplots()\n",
    "x = np.linspace(0, 16, 100)\n",
    "y = f_sqrt(x)\n",
    "plt.ylim(-1, 6)\n",
    "plt.xlim(-6,15)\n",
    "ax.axhline(y=0, color='k')\n",
    "ax.axvline(x=0, color='k')\n",
    "plt.plot(x,y)"
   ]
  }
 ],
 "metadata": {
  "kernelspec": {
   "display_name": "py38",
   "language": "python",
   "name": "python3"
  },
  "language_info": {
   "codemirror_mode": {
    "name": "ipython",
    "version": 3
   },
   "file_extension": ".py",
   "mimetype": "text/x-python",
   "name": "python",
   "nbconvert_exporter": "python",
   "pygments_lexer": "ipython3",
   "version": "3.8.16"
  },
  "orig_nbformat": 4
 },
 "nbformat": 4,
 "nbformat_minor": 2
}
