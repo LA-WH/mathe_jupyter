{
 "cells": [
  {
   "cell_type": "markdown",
   "id": "ff809798",
   "metadata": {},
   "source": [
    "## Eine Einführung in Python und Jupyter Notebooks"
   ]
  },
  {
   "cell_type": "markdown",
   "id": "4d71675e",
   "metadata": {},
   "source": [
    "Dieses Jupyter Notebook ist das erste in einer Reihe von Notebooks die das Ziel verfolgen mathematische Inhalte aus der Vorlesung mit Programmieraufgaben zu festigen und gegebenenfalls zu erweitern. Gleichzeitig wird die Programmiersprache Python den Studierenden von Null auf über die Länge des Kurses beigebracht. Konkret wird in diesem Notebook die Notwendigkeit von Programmierkenntnissen motiviert, sowie eine Einführung in die Grundlagen von Python und Jupyter Notebooks geboten.\n",
    "\n",
    "Inhalt:\n",
    "<ul>\n",
    " <li><a href=\"#C1\">1. Grundlegende Rechenoperationen und Variablen</a></li>\n",
    " <li><a href=\"#C2\">2. Listen</a></li>\n",
    " <li><a href=\"#C3\">3. Schleifen</a></li>\n",
    " <li><a href=\"#C4\">4. Funktionen</a></li>\n",
    " <li><a href=\"#C5\">5. Texte in Python: strings</a></li>\n",
    " <li><a href=\"#C6\">6. if-Abfragen</a></li>\n",
    " <li><a href=\"#C7\">7. Lösungen</a></li>\n",
    "</ul>\n",
    "\n",
    "\n",
    "**Python Grundlagen:** Keine <br>\n",
    "**Math. Grundlagen:** Abiturniveau"
   ]
  },
  {
   "cell_type": "markdown",
   "id": "b5486434",
   "metadata": {},
   "source": [
    "<div style = \"padding: 15px; border-radius: 8px; border: 2px solid; border-color: Green; background-color: #E0FFD1;\">\n",
    "<p> Das Dateiformat, das Sie hier sehen nennt sich <b>Jupyter Notebook</b> (.ipynb). Solche Notebooks werden dazu verwendet Computercodes mithilfe von Fließtexten, mathematischen Formeln, Bildern und interaktiven Widgets anschaulicher zu machen. Wir werden Jupyter in diesem Kurs dazu verwenden Ihnen die Grundlagen der Programmiersprache Python beizubringen und Ihnen parallel anwendungsbezogene Programmieraufgaben zu stellen. </p>\n",
    "\n",
    "Hier einige Hinweise zur Verwendung der Jupyter Notebooks:\n",
    " - Ein Jupyter Notebook setzt sich aus Zellen bzw. Blöcken zusammen, von denen es zwei Typen gibt: **Textblöcke** und **Codeblöcke**. Textblöcke enthalten Aufgabenstellungen und Erklärtexte und müssen somit nicht von Ihnen verändert werden. Codeblöcke enthalten Pythoncode, der entweder vorgegeben ist oder von Ihnen selbst geschrieben werden muss.\n",
    " - Zum Ausführen eines Blocks klicken Sie auf *Start* (▶) in der oberen Leiste.\n",
    " - Möchten Sie ein laufendes Programm in einem Codeblock abbrechen klicken Sie auf *Stopp*. (⏹)\n",
    " - In der oberen Zeile befinden sich noch weitere Schaltflächen mit denen das Notebook editiert werden kann. Fährt man mit dem Mauszeiger über ein Symbol, wird eine Erklärung zu diesem angezeigt. Für die Verwendung unserer Notebooks werden außer *Start* und *Stopp* allerdings keine weiteren Schaltflächen benötigt.\n",
    " - Alle Codeblöcke sind miteinander verbunden. Sie müssen diese also der Reihe nach (von oben nach unten) ausführen. Die Zahl die links neben einem ausgeführten Codeblock steht gibt die Reihenfolge an in der der Codeblock ausgeführt wurde.\n",
    " - Haben Sie vorgefertigte Text- oder Codeblöcke verändert und möchten diese Änderungen rückgängig machen, verwenden Sie die Tastenkombination *Strg + Z*. Diese müssen Sie so häufig anwenden bis alle Ihre Änderungen einzeln rückgängig gemacht wurden."
   ]
  },
  {
   "cell_type": "markdown",
   "id": "b541d6f8",
   "metadata": {},
   "source": [
    "### I. Motivation"
   ]
  },
  {
   "cell_type": "markdown",
   "id": "78cd1a76",
   "metadata": {},
   "source": [
    "Viele Probleme in Naturwissenschaft und Technik lassen sich nicht von Hand lösen. Hierzu zählen nicht nur komplexe Gleichungssysteme und Integrale, sondern auch die Auswertung von Experimenten, deren Datensätze häufig mehrere zehntausend (oder mehr!) Datenpunkte beinhalten. Ein Werkzeug, welches bei diesen und auch vielen weiteren Problemen Abhilfe schafft, ist die Programmiersprache **Python**. Sie ist eine der beliebtesten und am weitest verbreiteten Programmiersprachen der Welt. Dies liegt nicht nur daran, dass sie vergleichsweise einfach zu erlernen ist, sondern auch daran, dass sie trotz ihrer Einfachheit sehr vielseitig einsetzbar ist. Von der Darstellung einfacher Graphen bishin zu Simulationen und neuronalen Netzwerken, Python ist häufig die erste Wahl. Grundlagenkenntnisse in Python sind damit in vielen Bereichen unverzichtbar und diese bereits im Studium zu erlernen ist wichtig. \n",
    "\n",
    "Hier einige konkrete Beispiele für Probleme bzw. Aufgabenstellungen, welche ohne Computerhilfe kaum zu bewältigen sind:"
   ]
  },
  {
   "cell_type": "markdown",
   "id": "0ddd74c5",
   "metadata": {},
   "source": [
    "#### I.1. Beispiel:  Numerische Integration"
   ]
  },
  {
   "cell_type": "markdown",
   "id": "5a9105a5",
   "metadata": {},
   "source": [
    "Möchte man den Umfang einer Ellipse berechnen so muss zwangsweise das sogenannte **elliptische Integral** $E(k, \\phi)$ gelöst werden. Es gilt\n",
    "\n",
    "$$U = 4a \\cdot E(\\varepsilon, \\pi /2) = 4a\\int_0^{\\pi / 2} \\mathrm{d}\\theta \\sqrt{1 - \\varepsilon^2 \\sin^2 \\theta} \\ , \\quad \\varepsilon = \\sqrt{1 - (b/a)^2} \\ , \\quad a \\geq b \\ .$$\n",
    "\n",
    "> **Am Rande:** Ähnliche Integrale treten unter anderem auch bei der Berechnung von Kepplerschen Planetenbahnen auf. \n",
    "\n",
    "Es ist nicht möglich das oben auftretende Integral analytisch (= von Hand) zu lösen, was zur Folge hat, dass es keine simple Formel für den Ellipsenumfang geben kann. Stattdessen muss man auf computergestützte Verfahren zurückgreifen welche sich mit hoher Präzision an das exakte numerisches Ergebnis annähern können."
   ]
  },
  {
   "cell_type": "markdown",
   "id": "99dcf4d4",
   "metadata": {},
   "source": [
    "#### I.2. Beispiel: Auswertung von Experimenten"
   ]
  },
  {
   "cell_type": "markdown",
   "id": "321e3ea5",
   "metadata": {},
   "source": [
    "Betrachten wir ein Experiment in dem der Ton einer schwingenden Gitarrensaite aufgenommen wird. Das Mikrofon ist in der Lage den  durch die schwingende Saite erzeugten Schalldruck mit einer Zeitauflösung von $\\sim 20 \\mathrm{\\mu s}$ aufzunehmen - das sind bereits $50000$ Datenpaare $(t, \\Delta P)$ für eine Aufnahmelänge von nur einer Sekunde! Mithilfe von Python lässt sich eine solche Datenmenge jedoch ohne Probleme verarbeiten und darstellen (siehe Grafik unten links).\n",
    "\n",
    "Man sieht, dass es sich bei der aufgenommenen Schallwelle um eine Überlagerung von Wellen verschiedener Frequenzen handelt. Mit einem komplexen Analyseverfahren, welches sich **Fourieranalyse** nennt, lassen sich die Frequenzen der überlagerten Wellen rekonstruieren, siehe Grafik unten rechts. Ein solcher Algorithmus ist selbst für eine kleine Datenmenge von Hand sehr aufwendig durchzuführen. Somit sind Computer auch hier nicht wegzudenken.\n",
    "\n",
    "<img align=\"center\" src=\"IMG_Experiment.png\" width=\"800\" height=\"600\">\n",
    "\n",
    "> **Am Rande**: Eine schwingende Gitarrensaite lässt sich durch eine stehende Welle beschreiben, welche an beiden Enden fixiert ist. Solche Wellen haben ein diskretes Frequenzspektrum welches aus der Grundfrequenz $f_0$ und ihren ganzzahligen Vielfachen besteht. <font color='red'>Zusätzlich lässt sich auch zeigen, dass die Amplituden der Teilschwingungen bei steigender Frequenz mit $1/n$ abfallen.</font> Wird eine Gitarrensaite jedoch mittig (oder fast mittig) angeschlagen so fallen alle möglichen Frequenzen weg deren stehende Wellen einen Knoten in der Mitte haben. Konkret ist in unserem Beispiel die Frequenz $f_1$ dadurch stark gedämpft."
   ]
  },
  {
   "cell_type": "markdown",
   "id": "47985c38",
   "metadata": {},
   "source": [
    "#### I.3. Beispiel: Neuronale Netzwerke"
   ]
  },
  {
   "cell_type": "markdown",
   "id": "b251922e",
   "metadata": {},
   "source": [
    "In der heutigen Forschung ist der Einsatz von neuronalen Netzwerken (bzw. Deep Learning) nicht mehr wegzudenken. Solche Netzwerke sind in der Lage komplexe Muster und Zusammenhänge zu erkennen, die daraufhin verwendet werden können um bestimmte Vorhersagen zu treffen. Ein typisches Beispiel ist die Klassifizierung von Bildern. So kann man bspw. ein neuronales Netzwerk dazu trainieren mit hoher Präzision Bilder von Hunden und Katzen zu trennen. Und das, ohne dem Netzwerk explizit mitzuteilen auf welche Merkmale hierbei zu achten ist! Ein typisches Lernschema eines neuronalen Netzwerks (NN) ist unten dargestellt. Als Training erhält das NN bereits klassifizierte Daten (Tierbilder und die zugehörige Klasse: Hund oder Katze) und nach einem ausreichend langem Trainingsprozess kann man dann Daten ohne Klassenlabel vom NN klassifizieren lassen. An dieser Stelle kann man dem Netzwerk auch Bilder übergeben die streng genommen nicht in das Schema Hund - Katze fallen, wie z.B. das Bild eines Tigers. Ein gut trainiertes Netzwerk wird den Tiger als Katze klassfizieren, da die äußerlichen Merkmale eines Tigers einer Hauskatze deutlich ähnlicher sind.\n",
    "\n",
    "Ein konkretes Beispiel aus der Forschung wäre die Rekonstruktion von Energien in einem Teilchendetektor. Die Trainingsdaten entstehen hierbei oft durch komplexe Simulationen der Interaktionen zwischen Teilchen und Materie. "
   ]
  },
  {
   "cell_type": "markdown",
   "id": "8e9f7711",
   "metadata": {},
   "source": [
    "<img align=\"center\" src=\"IMG_NeuronalesNetzwerk.PNG\" width=\"700\" height=\"500\">"
   ]
  },
  {
   "cell_type": "markdown",
   "id": "ea7c68cc",
   "metadata": {},
   "source": [
    "### II. Python Tutorial (Teil 1/3)"
   ]
  },
  {
   "cell_type": "markdown",
   "id": "7c603258",
   "metadata": {},
   "source": [
    "#### 1. Grundlegende Rechenoperationen und Variablen\n",
    "<a id=\"C1\"></a>"
   ]
  },
  {
   "cell_type": "markdown",
   "id": "e9d39942",
   "metadata": {},
   "source": [
    "In seiner simpelsten Form kann man Python als einen gewöhnlichen Taschenrechner verwenden. Der folgende Codeblock enthält einige Beispiele für einfache Rechenoperationen die man mit Python ausführen kann. Mit dem Befehl ```print()``` weist man das Program an, das Ergebnis nach der Rechnung auszugeben. Klicken Sie auf den Codeblock und dann anschließend auf *Start* (▶) in der oberen Leiste um ihn auszuführen. Unterhalb des Codeblocks werden die Ergebnisse der Rechungen angezeigt."
   ]
  },
  {
   "cell_type": "code",
   "execution_count": 21,
   "id": "6a55c44d",
   "metadata": {},
   "outputs": [
    {
     "name": "stdout",
     "output_type": "stream",
     "text": [
      "5\n",
      "-1\n",
      "0.6666666666666666\n",
      "6\n"
     ]
    }
   ],
   "source": [
    "print(2 + 3)\n",
    "print(2 - 3)\n",
    "print(2 / 3)\n",
    "print(2 * 3)"
   ]
  },
  {
   "cell_type": "markdown",
   "id": "21f6729f",
   "metadata": {},
   "source": [
    "**Learning by Doing!** Wenn es um das Erlernen von Programmiersprachen geht ist es essentiell alles was man in der Theorie lernt auch direkt in die Tat umzusetzen und selbst auszuprobieren. Wir empfehlen es Ihnen alle Codebeispiele (so einfach sie auch sein mögen) die sie hier sehen nochmals in einer abgewandelten Form selbst zu schreiben. Dies kann direkt im selben Codeblock geschehen. Ergänzen Sie den oberen Codeblock mit Ihren eigenen Beispielen und probieren Sie auch Zeilen zwischen den Befehlen freizulassen, sowie die Leerzeichen in den Klammern wegzulassen. Was fällt auf?\n",
    "\n",
    "> **Tipp:** Jeder ```print()```-Befehl in Python schreibt seinen Inhalt in eine neue Zeile. Möchte man Zeilen freilassen, so kann man einfach einen leeren ```print()```-Befehl verwenden ohne ein Argument zu übergeben.\n",
    "\n",
    "Wir können Rechnungen in Python selbstverständlich auch auf alle reellen Zahlen erweitern. Möchte man Potenzen berechnen so schreibt man ```x**n``` für $x^n$. Führen Sie den untenstehenden Codeblock aus und achten Sie auf das Ergebnis."
   ]
  },
  {
   "cell_type": "code",
   "execution_count": 23,
   "id": "a9cd441a",
   "metadata": {},
   "outputs": [
    {
     "name": "stdout",
     "output_type": "stream",
     "text": [
      "-0.79\n",
      "8\n",
      "4.5\n",
      "3.0\n",
      "200000\n",
      "200000.0\n"
     ]
    }
   ],
   "source": [
    "# Dies ist ein Kommentar.\n",
    "# Texte die mit einem Hashtag (#) beginnen werden von Python ignoriert.\n",
    "\"\"\"\n",
    "Möchte man Kommentare über mehrere Zeilen verfassen kann man den Text in drei Anführungsstriche setzen.\n",
    "Kommentare eignen sich hervorragend um den eigenen Code zu erklären (für sich selbst und andere)!\n",
    "Ergänzen Sie diesen Codeblock wieder mit Ihren eigenen Beispielen!\n",
    "\"\"\"\n",
    "\n",
    "print(-1.27 + 0.48)\n",
    "print(2**3)\n",
    "print(9**1/2)\n",
    "print(9**(1/2))\n",
    "print(2*10**5)\n",
    "print(2e+5) "
   ]
  },
  {
   "cell_type": "markdown",
   "id": "796a6421",
   "metadata": {},
   "source": [
    "Wie man sehen kann ist auch im Programmieren Klammersetzung äußerst wichtig! ```9**1/2``` wird nämlich nicht als $9^{1/2} = \\sqrt{9} = 3$ interpretiert, sondern als $9^1/2 = 4.5$. Für die wissenschaftliche Schreibweise von sehr großen, bzw. sehr kleinen Zahlen kann man abkürzend ```ae+n``` bzw. ```ae-n``` für $a \\cdot 10^{\\pm n}$ schreiben. Doch weshalb werden ganzen Zahlen manchmal mit einem \"komma null\" ausgegeben und manchmal nicht? In Python werden Zahlen in der Regel in zwei Typen unterteilt: Ganze Zahlen (*integer*) und Kommazahlen (*float*). Ist eine ganze Zahl, wie z.B. die $3$, als *float* gespeichert so wird sie immer als Kommazahl ausgegeben: ```3.0```. Eine automatische Umwandlung in einen *integer* findet nicht statt (und ist in den meisten Fällen auch nicht notwendig). Im Laufe dieser Einführung werden wir noch weitere Datentypen kennenlernen.\n",
    "\n",
    "> **Am Rande:** Der Grund für die Trennung von Zahlen in *integer* und *float* ist von technischer Natur. Speichert man eine Zahl als *integer* ab verbraucht sie weniger Speicherplatz als wenn man sie als *float* abspeichern würde. In diesem Kurs werden Sie sich über Speicherkapazitäten allerdings keine Gedanken machen müssen. Dies wird erst dann wichtig, wenn riesige Datenmengen verarbeitet werden müssen oder Programme für Geräte entwickelt werden sollen die über sehr begrenzte Speicherkapazitäten verfügen.\n",
    "\n",
    "Im ersten Codeblock wurde der Bruch $2/3$ berechnet und als Kommazahl mit 16 Nachkommastellen ausgegeben. Eine solche Genauigkeit ist häufig nicht nötig oder sogar unerwünscht! Mithilfe der ```round()```-Funktion können Zahlen in Python auf beliebig viele Stellen gerundet werden. Hierfür kann man der Funktion zwei Argumente liefern: Zum einen die Zahl die gerundet werden soll und zum anderen die Anzahl der Stellen auf die man runden möchte. Gibt man die Anzahl der Stellen nicht an wird immer auf eine ganze Zahl gerundet."
   ]
  },
  {
   "cell_type": "code",
   "execution_count": 4,
   "id": "b826da7a",
   "metadata": {},
   "outputs": [
    {
     "name": "stdout",
     "output_type": "stream",
     "text": [
      "0.6666666666666666\n",
      "0.667\n",
      "0.67\n",
      "0.7\n",
      "1\n"
     ]
    }
   ],
   "source": [
    "print(2 / 3)\n",
    "print(round(2 / 3, 3))\n",
    "print(round(2 / 3, 2))\n",
    "print(round(2 / 3, 1))\n",
    "print(round(2 / 3))\n",
    "\n",
    "#Nicht vergessen: Rechnen Sie weitere Beispiele aus!"
   ]
  },
  {
   "cell_type": "markdown",
   "id": "f68361b5",
   "metadata": {},
   "source": [
    "Wir haben nun zwei Funktionen ineinander verschachtelt: ```print()``` und ```round()```. Wenn allerdings noch weitere Funktionen hinzukommen wird die Codezeile schnell unübersichtlich. Häufig möchte man auch einige Zahlen oder Ergebnisse an anderer Stelle wiederverwenden ohne den zugehörigen Code der das Ergebnis berechnet erneut abzutippen. Beide Probleme lassen sich mit der Benutzung von **Variablen** beheben. Betrachten Sie dazu den unten stehenden Codeblock."
   ]
  },
  {
   "cell_type": "code",
   "execution_count": 5,
   "id": "d1a4daff",
   "metadata": {
    "scrolled": true
   },
   "outputs": [
    {
     "name": "stdout",
     "output_type": "stream",
     "text": [
      "3.75\n",
      "4\n"
     ]
    }
   ],
   "source": [
    "x = 1.5\n",
    "y = 2.25\n",
    "z = x + y\n",
    "print(z)\n",
    "z = round(z)\n",
    "print(z) # anstatt von print(round(z))\n",
    "\n",
    "# Hier könnte Ihr Code stehen!"
   ]
  },
  {
   "cell_type": "markdown",
   "id": "32cbd4a7",
   "metadata": {},
   "source": [
    "An diesem Beispiel werden direkt einige wichtige Syntax-Prinzipien von Python klar. Erstens ließt Python strikt **von oben nach unten**. Erst wird eine Variable ```x``` definiert und ihr der Wert $1.5$ zugewiesen. Danach wird ```y``` definiert und ihr der Wert $2.25$ zugewiesen. Nun wird ```z``` definiert und ihr der Wert $3.75 \\ (= x + y)$ zugewiesen. Eine Zeile später wird der Wert von ```z``` ausgegeben $(3.75)$. Man sieht auch, dass Python Variablendefinitionen **von rechts nach links** ließt. In der vorletzten Zeile wird der Wert der Variable ```z``` $(3.75)$ gerundet $(\\rightarrow 4)$ und wieder als ```z``` abgespeichert. Der Speicherplatz wurde dadurch überschrieben. Darum wird in der letzten Zeile auch nicht $3.75$, sondern $4$ ausgegeben.\n",
    "\n",
    "> **Tipp:** Es ist häufig sehr hilfreich einen Code Zeile für Zeile durchzugehen um genau zu verstehen was für einen Zweck der Code bzw. ein Teil des Codes hat. Das ist auch besonders wichtig um nachzuvollziehen wo beim Programmieren möglicherweise ein Fehler unterlaufen ist!\n",
    "\n",
    "> **Am Rande:** Als **Syntax** bezeichnet man die \"Grammatik\" einer Programmiersprache. Sie unterscheidet sich von Sprache zu Sprache. Python besitzt eine vergleichsweise sehr einfache und intuitive Syntax.\n",
    "\n",
    "Möchte man mehrere Variablen definieren, so bietet es sich an, diese in einer Zeile zu definieren um Platz zu sparen:"
   ]
  },
  {
   "cell_type": "code",
   "execution_count": 6,
   "id": "57ee354f",
   "metadata": {},
   "outputs": [
    {
     "name": "stdout",
     "output_type": "stream",
     "text": [
      "2.77\n"
     ]
    }
   ],
   "source": [
    "v_x, v_y, v_z = 1.5, 2.3, 0.4 # Variablen können (fast) beliebig benannt werden.\n",
    "abs_v = (v_x**2 + v_y**2 + v_z**2)**(1/2)\n",
    "print(round(abs_v, 2))"
   ]
  },
  {
   "cell_type": "markdown",
   "id": "b7e74119",
   "metadata": {},
   "source": [
    "Beim Benennen von Variablen sind einem nur wenig Grenzen gesetzt. Allerdings dürfen Variablennamen **nicht** mit einer Zahl beginnen und auch keine Leerzeichen enthalten:"
   ]
  },
  {
   "cell_type": "code",
   "execution_count": 27,
   "id": "2edfa830",
   "metadata": {},
   "outputs": [
    {
     "ename": "SyntaxError",
     "evalue": "invalid syntax (914961040.py, line 1)",
     "output_type": "error",
     "traceback": [
      "\u001b[1;36m  Input \u001b[1;32mIn [27]\u001b[1;36m\u001b[0m\n\u001b[1;33m    1st variable = 1\u001b[0m\n\u001b[1;37m     ^\u001b[0m\n\u001b[1;31mSyntaxError\u001b[0m\u001b[1;31m:\u001b[0m invalid syntax\n"
     ]
    }
   ],
   "source": [
    "1st variable = 1"
   ]
  },
  {
   "cell_type": "markdown",
   "id": "e9b1c13d",
   "metadata": {},
   "source": [
    "Der Compiler zeigt hier eine Fehlermeldung an die uns darauf hinweist, dass unsere Eingabe nicht den Syntax-Regeln entspricht.\n",
    "\n",
    "> **Am Rande:** Der **Compiler** ist das Programm, das den geschriebenen Code in Maschinensprache übersetzt damit der Prozessor ihn ausführen kann."
   ]
  },
  {
   "cell_type": "markdown",
   "id": "84a3eda5",
   "metadata": {},
   "source": [
    "#### 2. Listen\n",
    "<a id=\"C2\"></a>"
   ]
  },
  {
   "cell_type": "markdown",
   "id": "07476740",
   "metadata": {},
   "source": [
    "Die Variablen ```v_x, v_y, v_z``` entsprechen in unserem Fall den Komponenten eines dreidimensionalen Vektors $\\vec{v}$. In Python lassen sich zusammengehörige Variablen in **Listen** gruppieren um einfacher mit ihnen zu arbeiten. Um eine Liste zu erstellen schreibt man alle Variablen die man in die Liste einfügen möchte in eckige Klammern. Eine Liste muss auch, wie eine Variable, benannt werden:"
   ]
  },
  {
   "cell_type": "code",
   "execution_count": 7,
   "id": "4a321afe",
   "metadata": {},
   "outputs": [
    {
     "name": "stdout",
     "output_type": "stream",
     "text": [
      "[1.5, 2.3, 0.4]\n",
      "[2.2, -1.6, -0.5]\n"
     ]
    }
   ],
   "source": [
    "v = [v_x, v_y, v_z]\n",
    "w = [2.2, -1.6, -0.5] # Eine Liste kann auch direkt mit Zahlenwerten initialisiert werden.\n",
    "print(v)\n",
    "print(w)"
   ]
  },
  {
   "cell_type": "markdown",
   "id": "648b99e5",
   "metadata": {},
   "source": [
    "Eine Liste ist eine geordnete Datenstruktur; die Elemente einer Liste besitzen also eine festgelegte Reihenfolge! So ist das erste Element der Liste ```v``` der Zahlenwert von ```v_x``` (da ```v_x``` bei der Initialisierung zuerst genannt wurde). Auf die Elemente einer Liste kann man mit dem Befehl ```v[i]``` einzeln zugreifen, wobei ```i``` der (i + 1)-te Eintrag der Liste ist. Der Zugriff auf Listenelemente kann auch rückwarts geschehen, hier wäre ```v[-1]``` der letzte Eintrag der Liste,  ```v[-2]``` der zweitletzte, usw."
   ]
  },
  {
   "cell_type": "code",
   "execution_count": 8,
   "id": "15b15d7f",
   "metadata": {},
   "outputs": [
    {
     "name": "stdout",
     "output_type": "stream",
     "text": [
      "2.2\n",
      "-1.6\n",
      "-0.5\n",
      "-0.5\n",
      "-1.6\n",
      "2.2\n"
     ]
    }
   ],
   "source": [
    "print(w[0])\n",
    "print(w[1])\n",
    "print(w[2])\n",
    "print(w[-1])\n",
    "print(w[-2])\n",
    "print(w[-3])"
   ]
  },
  {
   "cell_type": "markdown",
   "id": "918f5c4a",
   "metadata": {},
   "source": [
    "Eine Liste kommt mit einer ganzen Reihe von Funktionen. So kann man sich zum Beispiel die Länge einer Liste oder auch das kleinste bzw. größte Element ausgeben lassen. Elemente können nachträglich auch hinzugefügt oder gelöscht werden. Funktionen die die Liste verändern werden einfach mit ```<Liste>.<Funktion>()``` aufgerufen wie im unteren Beispiel zu sehen ist. Es entsteht somit keine veränderte Kopie der Liste welche abgespeichert werden muss; die Liste wird in ihrem Original verändert."
   ]
  },
  {
   "cell_type": "code",
   "execution_count": 28,
   "id": "a06a8f3b",
   "metadata": {},
   "outputs": [
    {
     "name": "stdout",
     "output_type": "stream",
     "text": [
      "[0.3, -0.4, 9, 3.3]\n",
      "[0.3, -0.4, 0, 9, 3.3]\n",
      "[0.3, -0.4, 0, 9, 3.3, 1.2]\n",
      "6\n",
      "9\n",
      "-0.4\n"
     ]
    }
   ],
   "source": [
    "A = [0.3, 2, -0.4, 9, 3.3]\n",
    "\n",
    "A.pop(1) # .pop(i) löscht das Element mit Index i.\n",
    "print(A) # Die Variable \"A\" wurde damit verändert. \n",
    "\n",
    "A.insert(2, 0) # .insert(i, x) fügt das Element x so ein, dass es den Index i erhält.\n",
    "print(A)\n",
    "\n",
    "A.append(1.2) # .append(x) hängt das Element x am Ende der Liste an.\n",
    "print(A)\n",
    "\n",
    "print(len(A))\n",
    "print(max(A))\n",
    "print(min(A))"
   ]
  },
  {
   "cell_type": "markdown",
   "id": "35e91b68",
   "metadata": {},
   "source": [
    "Wir können nun die Länge des Vektors $\\vec{v}$ auch wie folgt berechnen:"
   ]
  },
  {
   "cell_type": "code",
   "execution_count": 11,
   "id": "5390d059",
   "metadata": {},
   "outputs": [
    {
     "name": "stdout",
     "output_type": "stream",
     "text": [
      "2.77\n"
     ]
    }
   ],
   "source": [
    "abs_v = (v[0]**2 + v[1]**2 + v[2]**2)**(1/2)\n",
    "print(round(abs_v, 2))"
   ]
  },
  {
   "cell_type": "markdown",
   "id": "5fad52bc",
   "metadata": {},
   "source": [
    "#### 3. Schleifen\n",
    "<a id=\"C3\"></a>"
   ]
  },
  {
   "cell_type": "markdown",
   "id": "627de12e",
   "metadata": {},
   "source": [
    "In der Mathematik müssen Vektoren nicht immer dreidimensional sein. Unter der Vorraussetzung, dass die Vektorlänge ähnlich wie oben berechnet werden kann, wie könnte man die Länge eines zehndimensionalen Vektors mit minimaler Schreibarbeit berechnen? Die Antwort: **Schleifen!** Jedesmal wenn eine größere Anzahl an ähnlichen Schritten ausgeführt werden soll kann man mit Schleifen die Wiederholungen automatisieren. Eine der einfachsten Schleifen ist die *while*-Schleife. Sie wiederholt einen Satz an Anweisungen solange die **Schleifenbedingung** erfüllt ist. Hier ein einfaches Beispiel:"
   ]
  },
  {
   "cell_type": "code",
   "execution_count": 12,
   "id": "fd7b1662",
   "metadata": {},
   "outputs": [
    {
     "name": "stdout",
     "output_type": "stream",
     "text": [
      "0\n",
      "1\n",
      "2\n"
     ]
    }
   ],
   "source": [
    "i = 0\n",
    "while i < 3:\n",
    "    print(i) # Schleifenanweisungen sind immer eingerückt. Dies geschieht in der Regel automatisch.\n",
    "    i = i + 1"
   ]
  },
  {
   "cell_type": "markdown",
   "id": "842ccfed",
   "metadata": {},
   "source": [
    "Wie arbeitet eine solche Schleife? Zunächst wird eine Variable ```i``` definiert und auf null gesetzt. Dann wird die Schleife initialisiert: Sie soll die Anweisungen ```print(i)``` und ```i = i + 1``` solange wiederholen, solange die Variable ```i``` kleiner als 3 ist. Im ersten Durchlauf ist ```i``` = 0; die Schleifenbedingung ist offensichtlich erfüllt und damit wird ```i``` durch den ```print()```-Befehl ausgegeben. Danach wird ```i``` um 1 erhöht. Die Schleife springt wieder an ihren Anfang und überprüft ob ```i```(= 1) kleiner 3 ist. Dies ist wieder wahr und die Anweisungen werden erneut ausgeführt. Das alles wiederholt sich solange bis ```i``` = 3 ist. Dann ist die Schleifenbedingung nicht mehr erfüllt, die Schleife wird abgebrochen und der Code ganz normal fortgesetzt.\n",
    "\n",
    "**Achtung!** Was passiert wenn der Befehl ```i = i + 1``` nicht existieren würde? Richtig, die Schleife wird endlos weiterlaufen und Python wird immer wieder die Zahl 0 ausgeben. Sollte so etwas passieren kann das Programm über das *Stopp*-Symbol (⏹) in der oberen Leiste abgebrochen werden.\n",
    "\n",
    "Wir haben nun ein Werkzeug gefunden um die Länge des zehndimensionalen Vektors ohne viel Schreibaufwand zu berechnen:"
   ]
  },
  {
   "cell_type": "code",
   "execution_count": 30,
   "id": "168c3279",
   "metadata": {},
   "outputs": [
    {
     "name": "stdout",
     "output_type": "stream",
     "text": [
      "6.56\n"
     ]
    }
   ],
   "source": [
    "u = [2, 1.1, 0, -1.3, 0.4, -3.2, 1.8, 0, -4.3, 2]\n",
    "\n",
    "u_sqrd, i = 0, 0\n",
    "while i < len(u): # Die möglichen Indices der Liste sind 0,1,2,...,9\n",
    "    u_sqrd = u_sqrd + u[i]**2\n",
    "    i = i + 1\n",
    "\n",
    "abs_u = u_sqrd**(1/2)\n",
    "print(round(abs_u, 2))"
   ]
  },
  {
   "cell_type": "markdown",
   "id": "31a98060",
   "metadata": {},
   "source": [
    "Nehmen Sie sich die Zeit den obigen Code Zeile für Zeile durchzugehen und zu verstehen was in jeder Zeile passiert.\n",
    "\n",
    "In der ersten Zeile wird der zehndimensionale Vektor initialisiert. In der zweiten Zeile wird der Index ```i``` definiert und auf Null gesetzt, allerdings auch eine Variable mit dem Namen ```u_sqrd```. Wie der Name impliziert, soll es sich hierbei um das Skalarprodukt des Vektors mit sich selbst handeln, also $\\vec{u} \\cdot \\vec{u} = \\sum_{i = 1}^{10} u_i^2$. Jeder Iterationsschritt der folgenden *while*-Schleife entspricht einem Summanden dieser Summe. Am Ende trägt die Variable ```u_sqrd``` den Wert $\\vec{u} \\cdot \\vec{u} = |\\vec{u}|^2$, entsprechend muss abschließend noch die Wurzel gezogen werden.\n",
    "\n",
    "> **Achtung:** Es ist wichtig die Variable ```u_sqrd``` **außerhalb** der Schleife zu initialisieren. Tut man das nicht, so wird bei jedem Iterationsschritt ```u_sqrd``` wieder zurück auf Null gesetzt und man findet abschließend nur $|\\vec{u}|^2 = u_{10}^2$.\n",
    "\n",
    "Eine weitere Schleifenart ist die *for*-Schleife. Sie funktioniert sehr ähnlich wie die *while*-Schleife, jedoch mit einem Unterschied: Man muss in ihren Schleifenanweisungen nicht angeben dass der Index ```i``` sich um 1 erhöhen muss. Stattdessen gibt man bei der Initialisierung direkt an in welchem Bereich sich der Index bewegen soll und ```i``` wird automatisch erhöht:"
   ]
  },
  {
   "cell_type": "code",
   "execution_count": 14,
   "id": "affe54b2",
   "metadata": {},
   "outputs": [
    {
     "name": "stdout",
     "output_type": "stream",
     "text": [
      "6.56\n"
     ]
    }
   ],
   "source": [
    "u_sqrd = 0\n",
    "for i in range(0, len(u)): # range(0, N) -> i soll sich sich zwischen 0 und N bewegen (exklusive N) \n",
    "    u_sqrd = u_sqrd + u[i]**2\n",
    "    \n",
    "abs_u = u_sqrd**(1/2)\n",
    "print(round(abs_u, 2))"
   ]
  },
  {
   "cell_type": "markdown",
   "id": "ac8a42bb",
   "metadata": {},
   "source": [
    "*for*-Schleifen eignen sich hervorragend wenn die Elemente einer Liste abgearbeitet werden sollen. So könnte man auch folgendes schreiben:"
   ]
  },
  {
   "cell_type": "code",
   "execution_count": 15,
   "id": "0efe9142",
   "metadata": {},
   "outputs": [
    {
     "name": "stdout",
     "output_type": "stream",
     "text": [
      "6.56\n"
     ]
    }
   ],
   "source": [
    "u_sqrd = 0\n",
    "for item in u: # Iteriere über alle Elemente der Liste v, wobei \"item\" das aktuelle Element bezeichnet.\n",
    "    u_sqrd = u_sqrd + item**2 # Der Variablenname \"item\" ist hier wieder beliebig gewählt worden.\n",
    "    \n",
    "abs_u = u_sqrd**(1/2)\n",
    "print(round(abs_u, 2))"
   ]
  },
  {
   "cell_type": "markdown",
   "id": "ce9ca202",
   "metadata": {},
   "source": [
    "**Aufgabe 1:** Wenden Sie das bisher gelernte an und \"verifizieren\" Sie den Grenzwert der geometrischen Reihe\n",
    "\n",
    "$$ \\sum_{k = 0}^{\\infty} \\frac{1}{2^k} = 2 \\ ,$$\n",
    "\n",
    "indem Sie die Summe der ersten 1000 Summanden berechnen. Gehen Sie wie folgt vor:\n",
    "1. Initialisieren Sie den anfänglichen Wert der Summe mit Null. Nennen Sie diese Variable \"value\".\n",
    "2. Initialisieren Sie nun die *for*-Schleife mit ```range(0, N)```. Was ist $N$ in unserem Fall?\n",
    "3. Schreiben Sie die Schleifenanweisung. Erhöhen Sie die Variable ```value``` in jedem Schritt um den Wert des Summanden mit Index $k$.\n",
    "4. Geben Sie den Wert von ```value``` aus. Runden Sie das Ergebnis nicht!\n",
    "\n",
    "> **Am Rande:** Selbstverständlich handelt es sich hierbei nicht um einen gültigen mathematischen Beweis."
   ]
  },
  {
   "cell_type": "code",
   "execution_count": null,
   "id": "35fe4314",
   "metadata": {},
   "outputs": [],
   "source": []
  },
  {
   "cell_type": "markdown",
   "id": "49b8fee4",
   "metadata": {},
   "source": [
    "#### 4. Funktionen\n",
    "<a id=\"C4\"></a>"
   ]
  },
  {
   "cell_type": "markdown",
   "id": "4f6d1836",
   "metadata": {},
   "source": [
    "Häufig möchte man nicht nur die Länge von einem Vektor, sondern gleich die Länge von einer Vielzahl an Vektoren berechnen. Um nicht jedes Mal eine neue Schleife schreiben zu müssen kann man sich **Funktionen** definieren und damit gleichzeitig für einen übersichtlicheren Code sorgen. Betrachten Sie den unten stehenden Codeblock und achten Sie auf die Syntax."
   ]
  },
  {
   "cell_type": "code",
   "execution_count": 34,
   "id": "1ae4a1e7",
   "metadata": {},
   "outputs": [
    {
     "name": "stdout",
     "output_type": "stream",
     "text": [
      "8.82\n",
      "6.17\n"
     ]
    }
   ],
   "source": [
    "a = [1, 7, -2.4, 0, -1.1, 1.1, 4, 0.2, -1.8, 0.5]\n",
    "b = [0, 0, 0, 1.2, -1.7, 2.9, 3.3, 2.8, 0.9, -2.4]\n",
    "\n",
    "def abs_vector(v): # Definiere eine Funktion mit den Namen abs_vector, welche abhängig von der Variable v sein soll.\n",
    "    v_sqrd = 0\n",
    "    for item in v:\n",
    "        v_sqrd = v_sqrd + item**2\n",
    "    return v_sqrd**(1/2) # Gib die Wurzel der Variable v_sqrd zurück.\n",
    "\n",
    "print(round(abs_vector(a), 2))\n",
    "print(round(abs_vector(b), 2))"
   ]
  },
  {
   "cell_type": "markdown",
   "id": "1e87cd97",
   "metadata": {},
   "source": [
    "Eine Funktion wird also allgemein wie folgt definiert: ```def <Name der Funktion>(<Eingabevariablen>):```. Ähnlich wie bei Schleifen werden alle inneren Befehle eingerückt. Soll die Funktion schlussendlich eine Variable zurückgeben schreibt man: ```return <Variable die zurückgegeben werden soll>```. Allerdings ist es auch möglich Funktionen zu schreiben die gar nichts zurückgeben. Generell können alle möglichen Typen von Variablen als Eingabe- oder Rückgabe gewählt werden und es ist auch möglich Funktionen zu schreiben die mehrere Variablen entgegennehmen und/oder mehrere Variablen zurückgeben. Betrachten Sie die folgenden Beispiele:."
   ]
  },
  {
   "cell_type": "code",
   "execution_count": 44,
   "id": "cc912994",
   "metadata": {},
   "outputs": [
    {
     "name": "stdout",
     "output_type": "stream",
     "text": [
      "2\n",
      "\n",
      "-7\n",
      "\n",
      "[2.0, [1.0, 0.0, 0.0]]\n"
     ]
    }
   ],
   "source": [
    "def f(x): # Diese Funktion hat keinen Rückgabewert. Stattdessen wird nur |x| über den print()-Befehl ausgegeben.\n",
    "    print(abs(x))\n",
    "    \n",
    "f(-2)\n",
    "print()\n",
    "\n",
    "def g(x, y): # g nimmt zwei Variablen entgegen.\n",
    "    alpha, beta = 2, -1\n",
    "    return alpha*x**2 + beta*y**2\n",
    "\n",
    "print(g(1, 3))\n",
    "print()\n",
    "\n",
    "def h(v): # h nimmt eine Liste entgegen und gibt einen Skalar und eine Liste innerhalb einer Liste zurück.\n",
    "    e_v = []\n",
    "    for item in v:\n",
    "        e_v.append(item / abs_vector(v))\n",
    "    return [abs_vector(v), e_v]\n",
    "\n",
    "print(h([2, 0, 0]))"
   ]
  },
  {
   "cell_type": "markdown",
   "id": "d8a29074",
   "metadata": {},
   "source": [
    "Eine Variable von der eine Funktion abhängen soll (z.B. $x$) wird ausschließlich im Rahmen der Funktion definiert und verwendet. Eine solche Variable nennt man auch *lokal*. Das heißt konkret: Definieren wir die Variable $x$ auch außerhalb der Funktion (eine solche Variable heißt dann *global*), so wird die Variable durch die Funktion selbst nicht verändert. Folgendes Beispiel:"
   ]
  },
  {
   "cell_type": "code",
   "execution_count": 20,
   "id": "25de57f2",
   "metadata": {},
   "outputs": [
    {
     "name": "stdout",
     "output_type": "stream",
     "text": [
      "0\n",
      "1\n",
      "0\n"
     ]
    }
   ],
   "source": [
    "x = 0 # Definiere x (global) und weise ihr den Wert 0 zu.\n",
    "print(x)\n",
    "\n",
    "def g(): # Definiere g als Funktion, die allerdings von keiner Variable abhängt\n",
    "    x = 1 # Setze die lokale Variable x gleich 1\n",
    "    return x\n",
    "\n",
    "print(g()) # Gib die lokale Variable aus (funktionsspezifisch)\n",
    "print(x) # Gib die globale, unveränderte Variable aus"
   ]
  },
  {
   "cell_type": "markdown",
   "id": "4fc741c2",
   "metadata": {},
   "source": [
    "#### 5. Texte in Python: *strings*\n",
    "<a id=\"C5\"></a>"
   ]
  },
  {
   "cell_type": "markdown",
   "id": "fd1d503b",
   "metadata": {},
   "source": [
    "An dieser Stelle wollen wir einen weiteren Datentyp einwerfen: *strings*. Als einen *string* bezeichnet man alle Formen von Text, wie z.B. \"Hello World!\". Diese werden oft dazu verwendet die Ausgabe von Zahlenwerten übersichtlicher zu gestalten. Später werden wir Graphen von Funktionen zeichnen und *strings* verwenden um die Achsen zu beschriften. Wichtig ist, dass Text in Python in Anführungszeichen gesetzt wird um kenntlich zu machen dass es sich um einen *string* handelt!"
   ]
  },
  {
   "cell_type": "code",
   "execution_count": 45,
   "id": "658e3222",
   "metadata": {},
   "outputs": [
    {
     "name": "stdout",
     "output_type": "stream",
     "text": [
      "Hello World!\n"
     ]
    }
   ],
   "source": [
    "print(\"Hello World!\")"
   ]
  },
  {
   "cell_type": "markdown",
   "id": "c891bc8f",
   "metadata": {},
   "source": [
    "Oft ist es praktisch den Wert einer Variable in einen *string* einzuarbeiten. Als Platzhalter für diese Variable schreibt man ```%s``` in den *string* und gibt nach dem abschließenden Anführungszeichen an welche Variable für den Platzhalter eingesetzt werden soll. Dies geschieht mit einem ```%x```, falls ```x``` in diesem Fall die einzusetzende Variable war. Im unteren Codeblock sind zwei Beispiele gegeben."
   ]
  },
  {
   "cell_type": "code",
   "execution_count": 46,
   "id": "855ce5d2",
   "metadata": {},
   "outputs": [
    {
     "name": "stdout",
     "output_type": "stream",
     "text": [
      "Der Wert der Variable x beträgt 20\n",
      "x = 20, y = 50\n"
     ]
    }
   ],
   "source": [
    "x = 20\n",
    "print(\"Der Wert der Variable x beträgt %s\" %x)\n",
    "y = 50\n",
    "text = \"x = %s, y = %s\" %(x, y)\n",
    "print(text)"
   ]
  },
  {
   "cell_type": "markdown",
   "id": "0b208b8a",
   "metadata": {},
   "source": [
    "**Aufgabe 2:** Wir wollen nun ein physikalisches Beispiel betrachten indem das Gelernte wieder angewendet werden kann. Die unten angegebene Formel gibt die Gravitationsbeschleunigung auf der Oberfläche eines Planeten mit Dichte $\\rho$ und Radius $R$ an.\n",
    "\n",
    "$$ g(\\rho, R) = \\frac{4\\pi G}{3} \\cdot \\rho \\cdot R \\ , \\quad G = 6.6743 \\cdot 10^{-11} \\frac{\\mathrm{N}\\mathrm{m}^2}{\\mathrm{kg}^2}$$\n",
    "\n",
    "$G$ bezeichnet die Gravitationskonstante. Ergänzen Sie den unten stehenden Code und berechnen Sie damit die Gravitationsbeschleunigungen auf den Oberflächen der folgenden Planeten:\n",
    "\n",
    "| Planet      | Dichte $\\rho$ [g/cm^3] | Radius $R$ [km]|   \n",
    "| ----------- | ---------------------- | -------------- |\n",
    "| Erde        | 5,51                   | 6357           |\n",
    "| Mond        | 3,34                   | 1737           |\n",
    "| Mars        | 3,93                   | 3386           |\n",
    "| Saturn      | 0.69                   | 58232          |\n",
    "| Jupiter     | 1.33                   | 69911          |\n",
    "| Kepler-1649c| 5,54                   | 6738           |\n",
    "\n",
    "Einheiten können in Python nicht übertragen werden, sondern nur Zahlenwerte. Es ist somit immer wichtig im Hinterkopf zu behalten in welchen Einheiten man rechnet. Hier helfen Kommentare im Code!"
   ]
  },
  {
   "cell_type": "code",
   "execution_count": null,
   "id": "b76a1b19",
   "metadata": {},
   "outputs": [],
   "source": [
    "Planeten = [\"Erde\", ] # Liste mit Namen alle Planeten\n",
    "Dichten = [5.51, ] # Liste mit allen Dichten [g/cm^3] (in der selben Reihenfolge wie die Liste mit Namen!!)\n",
    "Radien = [6357, ] # Liste mit allen Radien [km]\n",
    "\n",
    "pi = # Initialisiere Pi\n",
    "G = # Initialisiere Gravitationskonstante\n",
    "\n",
    "def g(rho, R):\n",
    "    '''\n",
    "    Beachten Sie, dass die gegebenen Größen nicht in SI-Einheiten gegeben sind.\n",
    "    Hier wäre eine geeignete Stelle die Umrechnungen vorzunehmen.\n",
    "    '''\n",
    "    return \n",
    "\n",
    "for i in range(): # In welchem Bereich soll sich der Index i bewegen?\n",
    "    g_Planet = # Berechnen Sie die Grav. Beschleunigung für Planet i.\n",
    "    print(\"\" %()) # Geben Sie die Ergebnisse in folgendem Format an: g(<Planet>) = <g> m/s^2"
   ]
  },
  {
   "cell_type": "markdown",
   "id": "a06700e3",
   "metadata": {},
   "source": [
    "Die Lösung zu dieser Aufgabe findet Sie <a href=\"#C7\">hier</a>."
   ]
  },
  {
   "cell_type": "markdown",
   "id": "6b1b8ab9",
   "metadata": {},
   "source": [
    "#### 6. *if*-Abfragen\n",
    "<a id=\"C6\"></a>"
   ]
  },
  {
   "cell_type": "markdown",
   "id": "321aace8",
   "metadata": {},
   "source": [
    "Möchte man die Gravitationsbeschleunigung eines Planeten an einem beliebigen Punkt $P$ mit Abstand $r$ zum Planetenmittelpunkt berechnen, so muss man, je nach dem ob sich der Punkt $P$ **innerhalb** oder **außerhalb** des Planeten befindet, verschiedene Formeln verwenden:\n",
    "\n",
    "$$g(r) = \\begin{cases}\n",
    "\\frac{GM}{R^3}r &, \\ r \\leq R \\\\\n",
    "\\frac{GM}{r^2} &, \\ r > R \n",
    "\\end{cases}$$\n",
    "\n",
    "Wie kann man eine solche zweigeteilte Funktion in Python implementieren? Mit sogenannten *if*-Abfragen! Diese funktionieren wie eine Schleife, jedoch führen Sie ihre Anweisungen immer nur **einmal** aus. Hier ein einfaches Beispiel:"
   ]
  },
  {
   "cell_type": "code",
   "execution_count": 47,
   "id": "8eca33ff",
   "metadata": {},
   "outputs": [
    {
     "name": "stdout",
     "output_type": "stream",
     "text": [
      "x < 0\n"
     ]
    }
   ],
   "source": [
    "x, y = -1, 1\n",
    "if x < 0:\n",
    "    print(\"x < 0\")\n",
    "if y < 0:\n",
    "    print(\"y < 0\")"
   ]
  },
  {
   "cell_type": "markdown",
   "id": "b98ca758",
   "metadata": {},
   "source": [
    "Will man zwei *if*-Abfragen, deren Bedingungen komplementär sind (ist die eine Bedingung erfüllt dann ist die andere automatisch nicht erfüllt und umgekehrt) hintereinander stellen kann man einfach ein ```else:``` verwenden. Dieser Befehl bezieht sich dann immer auf die vorherige *if*-Abfrage. Selbstverständlich können dann nicht beide Anweisungen durchgeführt werden."
   ]
  },
  {
   "cell_type": "code",
   "execution_count": 50,
   "id": "0b8274b7",
   "metadata": {},
   "outputs": [
    {
     "name": "stdout",
     "output_type": "stream",
     "text": [
      "y > 0\n"
     ]
    }
   ],
   "source": [
    "if y > 0:\n",
    "    print(\"y > 0\")\n",
    "else:\n",
    "    print(\"y <= 0\") # \"<=\" ist das Symbol für \"kleiner gleich\"."
   ]
  },
  {
   "cell_type": "markdown",
   "id": "7720ca7d",
   "metadata": {},
   "source": [
    "Die Bedingungen die wir bei Schleifen und *if*-Abfragen verwenden nennen sich **bool(ean)s**. Diese sind logische Aussagen, die entweder **wahr** (True) oder **Falsch** (False) sein können. Sie bewerten komperative Aussagen welche sich mit \"und\" (&) und \"oder\" (|) verknüpfen lassen:\n",
    "\n",
    "> **Am Rande:** *bools* sind ein Datentyp für sich. Sie nehmen den wenigsten Speicherplatz ein und werden immer dann verwendet wenn nur zwei Zustände gebraucht werden um ein gegebenes System zu beschreiben. Der *bool* \"True\" wird häufig mit einer 1 assoziiert, während \"False\" häufig mit der Null assoziiert wird. Diese Assoziation hat ihren Ursprung im Maschinencode, der sich nur aus Einsen und Nullen zusammensetzt."
   ]
  },
  {
   "cell_type": "code",
   "execution_count": 53,
   "id": "fb24a44a",
   "metadata": {},
   "outputs": [
    {
     "name": "stdout",
     "output_type": "stream",
     "text": [
      "True\n",
      "False\n",
      "False\n",
      "True\n",
      "\n",
      "True\n",
      "True\n",
      "False\n",
      "False\n"
     ]
    }
   ],
   "source": [
    "print(2 > 0)\n",
    "print(2 < 0)\n",
    "print(1 == 4) # \"==\" -> Überprüfe ob zwei Zahlen gleich sind.\n",
    "print(3 <= 3)\n",
    "\n",
    "print()\n",
    "\n",
    "print((2 > 1) & (0 < 1))\n",
    "print((2 > 1) | (5 < 1))\n",
    "print((0 > 1) & (1 == 1))\n",
    "print((0 >= 1) | (3 < 3))"
   ]
  },
  {
   "cell_type": "markdown",
   "id": "5bad7d8c",
   "metadata": {},
   "source": [
    "*if*-Abfragen können verwendet werden um Schleifen falls nötig früher abzubrechen. Hierzu verwendet man zusätzlich auch den ```break```-Befehl:"
   ]
  },
  {
   "cell_type": "code",
   "execution_count": 55,
   "id": "9b0f9cba",
   "metadata": {},
   "outputs": [
    {
     "name": "stdout",
     "output_type": "stream",
     "text": [
      "-0.6\n"
     ]
    }
   ],
   "source": [
    "B = [0, 0, 0, -0.6, 0,  0.3]\n",
    "\n",
    "for item in B: # Gib das erste Element der Liste B aus welches ungleich null ist.\n",
    "    if item != 0: # \"!=\" -> ungleich.\n",
    "        print(item)\n",
    "        break"
   ]
  },
  {
   "cell_type": "markdown",
   "id": "f8b63ccb",
   "metadata": {},
   "source": [
    "Damit haben wir alle Werkzeuge zusammen um eine zweigeteilte Funktion zu definieren."
   ]
  },
  {
   "cell_type": "code",
   "execution_count": 72,
   "id": "9697a3dc",
   "metadata": {},
   "outputs": [
    {
     "name": "stdout",
     "output_type": "stream",
     "text": [
      "g_Erde(0 km) = 0.0 m/s^2\n",
      "g_Erde(R_Erde / 2) = 4.89 m/s^2\n",
      "g_Erde(R_Erde) = 9.79 m/s^2\n",
      "g_Erde(R_EM) = 0.003 m/s^2\n"
     ]
    }
   ],
   "source": [
    "def g_Erde(r):\n",
    "    M = 4 * pi * (Radien[0] * 1e+3)**3 * (Dichten[0] * 1e+3) / 3\n",
    "    if r <= Radien[0]:\n",
    "        return G * M * r * 1e+3 / (Radien[0] * 1e+3)**3\n",
    "    else:\n",
    "        return G * M / (r * 1e+3)**2\n",
    "    \n",
    "R_EM = 384400 # Abstand Erde - Mond in km\n",
    "print(\"g_Erde(0 km) = %s m/s^2\" %round(g_Erde(0), 2))\n",
    "print(\"g_Erde(R_Erde / 2) = %s m/s^2\" %round(g_Erde(Radien[0] / 2), 2))\n",
    "print(\"g_Erde(R_Erde) = %s m/s^2\" %round(g_Erde(Radien[0]), 2))\n",
    "print(\"g_Erde(R_EM) = %s m/s^2\" %round(g_Erde(R_EM), 3))"
   ]
  },
  {
   "cell_type": "markdown",
   "id": "9fa7491d",
   "metadata": {},
   "source": [
    "Der obige Code ist ein hervorragendes Beispiel dafür wie wichtig es ist Einheiten beim Programmieren im Auge zu behalten. Die obige Funktion ist nämlich so geschrieben, dass sie Abstände in Kilometern entgegennimmt und nicht in Metern (SI). Dies kann Verwirrung stiften wenn andere Personen den Code verstehen wollen, oder auch wenn Sie Ihren eigenen Code, den Sie vielleicht vor mehreren Monaten geschrieben haben, nochmals verwenden möchten. Kommentare können hier schnell Abhilfe schaffen!\n",
    "\n",
    "Zusammen mit dem bereits gesammelten Wissen über Schleifen, Listen und *if*-Abfragen sind wir nun (theoretisch) auch in der Lage einen Algorithmus zu programmieren der die Einträge einer Liste sortieren kann. Der folgende Codeblock zeigt einen solchen Algorithmus; diesen komplett nachzuvollziehen ist allerdings nicht zwingend nötig, da er für Anfänger recht komplex sein kann."
   ]
  },
  {
   "cell_type": "code",
   "execution_count": 73,
   "id": "d59d7086",
   "metadata": {
    "scrolled": true
   },
   "outputs": [
    {
     "name": "stdout",
     "output_type": "stream",
     "text": [
      "[-2, -2, 0, 1, 3, 5, 6, 9]\n"
     ]
    }
   ],
   "source": [
    "L = [3, 9, -2, 0, -2, 6, 5, 1]\n",
    "\n",
    "def sort_list(Unsorted):\n",
    "    '''\n",
    "    Eingabe: Unsortiere 1D-Liste (Zahlenwerte)\n",
    "    Ausgabe: Sortierte 1D-Liste\n",
    "    '''\n",
    "    Sorted = [Unsorted[0]]\n",
    "    for i in range(1, len(Unsorted)):\n",
    "        for j in range(0, len(Sorted)):\n",
    "            if Unsorted[i] <= Sorted[j]:\n",
    "                Sorted.insert(j, Unsorted[i]) \n",
    "                break\n",
    "            if j == len(Sorted) - 1:\n",
    "                Sorted.append(Unsorted[i])\n",
    "    return Sorted\n",
    "\n",
    "print(sort_list(L))"
   ]
  },
  {
   "cell_type": "markdown",
   "id": "9138d56a",
   "metadata": {},
   "source": [
    "Der obige Algorithmus ist eine Variante des **Insertion Sort**. Wie man sicherlich schnell einsehen kann ist es nicht praktisch einen solchen Algorithmus jedes Mal selbst zu programmieren falls der Bedarf besteht eine Liste zu sortieren. Viele wichtige Funktionen in Python existieren bereits (wie. z.B. ```round()``` oder ```len()```) und müssen nicht selbst geschrieben werden. Kein Einführungskurs der Welt kann die enorme Breite an existierenden Funktionen und sonstigen hilfreichen Inhalten abdecken, darum ist es **absolut notwendig**, dass Sie im Internet nach den Funktionen recherchieren die Sie für Ihr Programm benötigen. Das wird Ihnen eine Menge Zeit und Arbeit sparen. Wie Sie sich denken können existiert bereits auch ein Sortieralgorithmus für Listen:"
   ]
  },
  {
   "cell_type": "code",
   "execution_count": 74,
   "id": "2d830006",
   "metadata": {},
   "outputs": [
    {
     "name": "stdout",
     "output_type": "stream",
     "text": [
      "[-2, -2, 0, 1, 3, 5, 6, 9]\n"
     ]
    }
   ],
   "source": [
    "L.sort()\n",
    "print(L)"
   ]
  },
  {
   "cell_type": "markdown",
   "id": "3aa906cf",
   "metadata": {},
   "source": [
    "Viele weitere wichtige Funktionen, wie z.B. Sinus und Cosinus, aber auch Funktionen die die Möglichkeit bieten Graphen zu zeichnen befinden sich in sogenannten **Bibliotheken**. Zwei der wichtigsten Bibliotheken, *numpy* und *matplotlib*, werden wir im nächsten Notebook kennenlernen."
   ]
  }
 ],
 "metadata": {
  "kernelspec": {
   "display_name": "Python 3 (ipykernel)",
   "language": "python",
   "name": "python3"
  },
  "language_info": {
   "codemirror_mode": {
    "name": "ipython",
    "version": 3
   },
   "file_extension": ".py",
   "mimetype": "text/x-python",
   "name": "python",
   "nbconvert_exporter": "python",
   "pygments_lexer": "ipython3",
   "version": "3.9.7"
  }
 },
 "nbformat": 4,
 "nbformat_minor": 5
}
