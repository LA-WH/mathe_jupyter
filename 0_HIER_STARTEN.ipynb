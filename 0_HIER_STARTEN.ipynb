{
 "cells": [
  {
   "cell_type": "markdown",
   "metadata": {},
   "source": [
    "# Kurze Einführung in Jupyter Notebooks"
   ]
  },
  {
   "cell_type": "markdown",
   "metadata": {},
   "source": [
    "## Zellen ausführen\n",
    "\n",
    "Klicken Sie in die darunterliegende Zeile und drücken Sie `Shift` + `Enter` um diese auszuführen"
   ]
  },
  {
   "cell_type": "code",
   "execution_count": null,
   "metadata": {},
   "outputs": [],
   "source": [
    "1+1"
   ]
  },
  {
   "cell_type": "markdown",
   "metadata": {},
   "source": [
    "Sie haben nun eine Zelle ausgeführt. Sie können auch den `Pfeil(▶)` oben benutzen **um eine Zelle auszuführen**\n",
    "\n",
    "Neben der Zelle steht in eckigen Klammern die Nummer die angibt in welcher Reihenfolge die Zellen ausgeführt wurden. Die Reihenfolge ist wichtig, weil diese bestimmt wie die Daten in den Speicher gelesen werden.\n",
    "\n",
    "Führen Sie dazu die drei nachfolgenden Zeilen aus:"
   ]
  },
  {
   "cell_type": "code",
   "execution_count": null,
   "metadata": {},
   "outputs": [],
   "source": [
    "i = 1"
   ]
  },
  {
   "cell_type": "code",
   "execution_count": null,
   "metadata": {},
   "outputs": [],
   "source": [
    "i = 2"
   ]
  },
  {
   "cell_type": "code",
   "execution_count": null,
   "metadata": {},
   "outputs": [],
   "source": [
    "print(i)"
   ]
  },
  {
   "cell_type": "markdown",
   "metadata": {},
   "source": [
    "Da die Definition mit i=2 zuletzt gegeben wurde, wird nun durch print(i) auch der letzte Wert ausgegeben"
   ]
  },
  {
   "cell_type": "markdown",
   "metadata": {},
   "source": [
    "## Zellen hinzufügen"
   ]
  },
  {
   "cell_type": "markdown",
   "metadata": {},
   "source": [
    "Drücken Sie das `+` Symbol um eine neue Zeile hinzuzufügen"
   ]
  },
  {
   "cell_type": "markdown",
   "metadata": {},
   "source": [
    "## Zellen löschen"
   ]
  },
  {
   "cell_type": "markdown",
   "metadata": {},
   "source": [
    "Halten Sie die Maus über eine Zelle und wählen Sie auf der rechten Seite das Mulltonnen-Icon aus."
   ]
  },
  {
   "cell_type": "markdown",
   "metadata": {},
   "source": [
    "# !WICHTIG!"
   ]
  },
  {
   "cell_type": "markdown",
   "metadata": {},
   "source": [
    "In diesem Semester werden die Materialen in einer neuen Form für Sie präsentiert. Im letzen Semester wurde noch noch die Webseite Binder.org verwendet. In diesem Semester wird JupyterLite verwendet. Falls Sie im letzten Semester bereits Jupyter Notebooks im Rahmen des Kurses MGR bearbeitet haben,so werden Sie keinen bemerkenswerten Unterschied in der Bedienung erfahren. Hierbei bietet sich für uns der Vorteil, dass kein Drittservice verwendet werden muss. Eine wichtige Änderung die sich bei der Bedienung die sich durch die umstellung ergeben hat ist, dass das Jupyterhub nun lokal in ihrem Browser läuft. Dies hat nun die Folge, dass alle ihre Änderungen in den Notebooks in ihrem Browsercache gespeichert werden. Daraus resultiert die Konsequenz, dass bei einer Änderung ihrerseits die Änderung persistent bis Sie ihren Browsercache löschen. Gleichzeitig folgt daraus auch, dass Änderungen unsererseits auch nicht wirksam werden, bis Sie ihren Browsercache löschen.\n",
    "\n",
    "FOLGE:\n",
    "\n",
    "Sie können wie gewohnt Notebooks bearbeiten und ihr Fortschritt wird lokal gespeichert. Falls nun Notebooks unsererseits nochmal bearbeitet werden, müssen Sie den Browsercache löschen um die neuste version zu bekommen. Dafür wird ihnen in der nächsten Codezelle ein Button bereitgestellt, der den Browsercache NUR für JupyterLite löscht. Ihre restlichen Daten im Browser sind NICHT betroffen. Führen Sie dazu die Zelle aus."
   ]
  },
  {
   "cell_type": "code",
   "execution_count": null,
   "metadata": {},
   "outputs": [],
   "source": [
    "'''\n",
    "Button erscheint erst nach der Ausführung dieser Zelle.\n",
    "'''\n",
    "\n",
    "from IPython.display import display, HTML\n",
    "display(HTML(\"\"\"\n",
    "<button type=\"button\" id=\"button_for_indexeddb\">Clear JupyterLite local storage</button>\n",
    "<script>\n",
    "window.button_for_indexeddb.onclick = function(e) {\n",
    "    window.indexedDB.open('JupyterLite Storage').onsuccess = function(e) {\n",
    "        // There are also other tables that I'm not clearing:\n",
    "        // \"counters\", \"settings\", \"local-storage-detect-blob-support\"\n",
    "        let tables = [\"checkpoints\", \"files\"];\n",
    "\n",
    "        let db = e.target.result;\n",
    "        let t = db.transaction(tables, \"readwrite\");\n",
    "\n",
    "        function clearTable(tablename) {\n",
    "            let st = t.objectStore(tablename);\n",
    "            st.count().onsuccess = function(e) {\n",
    "                console.log(\"Deleting \" + e.target.result + \" entries from \" + tablename + \"...\");\n",
    "                st.clear().onsuccess = function(e) {\n",
    "                    console.log(tablename + \" is cleared!\");\n",
    "                }\n",
    "            }\n",
    "        }\n",
    "\n",
    "        for (let tablename of tables) {\n",
    "            clearTable(tablename);\n",
    "        }\n",
    "    }\n",
    "};\n",
    "</script>\n",
    "\"\"\"))"
   ]
  },
  {
   "cell_type": "code",
   "execution_count": null,
   "metadata": {},
   "outputs": [],
   "source": []
  }
 ],
 "metadata": {
  "kernelspec": {
   "display_name": "base",
   "language": "python",
   "name": "python3"
  },
  "language_info": {
   "codemirror_mode": {
    "name": "ipython",
    "version": 3
   },
   "file_extension": ".py",
   "mimetype": "text/x-python",
   "name": "python",
   "nbconvert_exporter": "python",
   "pygments_lexer": "ipython3",
   "version": "3.8.10"
  },
  "orig_nbformat": 4
 },
 "nbformat": 4,
 "nbformat_minor": 2
}
